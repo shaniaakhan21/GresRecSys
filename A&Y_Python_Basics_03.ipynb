{
  "nbformat": 4,
  "nbformat_minor": 0,
  "metadata": {
    "colab": {
      "name": "A&Y_Python_Basics_03.ipynb",
      "provenance": [],
      "include_colab_link": true
    },
    "kernelspec": {
      "name": "python3",
      "display_name": "Python 3"
    },
    "language_info": {
      "name": "python"
    }
  },
  "cells": [
    {
      "cell_type": "markdown",
      "metadata": {
        "id": "view-in-github",
        "colab_type": "text"
      },
      "source": [
        "<a href=\"https://colab.research.google.com/github/shaniaakhan21/GresRecSys/blob/main/A%26Y_Python_Basics_03.ipynb\" target=\"_parent\"><img src=\"https://colab.research.google.com/assets/colab-badge.svg\" alt=\"Open In Colab\"/></a>"
      ]
    },
    {
      "cell_type": "markdown",
      "metadata": {
        "id": "isTIGhHoPVFC"
      },
      "source": [
        "#*Variables*:"
      ]
    },
    {
      "cell_type": "markdown",
      "metadata": {
        "id": "bGgBNfCePc9G"
      },
      "source": [
        "How to name a variable?\n",
        "\n",
        "1. Variables can only start with a alphabet or _\n",
        "2. A variable cannot start with number.\n",
        "3. A variable can only contain alphabets, numbers and underscores (A-Z, a-z, 0-9, _)\n",
        "4. Variables names are case-sensitive ( NAME, Name and name are three different variables)"
      ]
    },
    {
      "cell_type": "code",
      "metadata": {
        "id": "ufXeOoBCQRPw"
      },
      "source": [
        "_name = \"Aadi\"\n",
        "name= \"Youssef\"\n",
        "_1name = \"shaniya\" #can't use numbers\n",
        "name101 = \"101\"\n",
        "name_101_Name = \"NAME\""
      ],
      "execution_count": null,
      "outputs": []
    },
    {
      "cell_type": "code",
      "metadata": {
        "colab": {
          "base_uri": "https://localhost:8080/"
        },
        "id": "OWLHY7DaSulF",
        "outputId": "38fdf96c-da7b-4fe0-cf7f-187ee1aa3564"
      },
      "source": [
        "Place = \"Dubai\"\n",
        "Date = \"20-07-21\"\n",
        "print(Place, Date)"
      ],
      "execution_count": null,
      "outputs": [
        {
          "output_type": "stream",
          "text": [
            "Dubai 20-07-21\n"
          ],
          "name": "stdout"
        }
      ]
    },
    {
      "cell_type": "markdown",
      "metadata": {
        "id": "4uH8X9ebTn79"
      },
      "source": [
        "#OPERATIONS"
      ]
    },
    {
      "cell_type": "markdown",
      "metadata": {
        "id": "DZeAe0FLUKBN"
      },
      "source": [
        "#AIRTHMETIC OPERATIONS: \n",
        "AIRTHMETIC OPERATORS"
      ]
    },
    {
      "cell_type": "code",
      "metadata": {
        "colab": {
          "base_uri": "https://localhost:8080/"
        },
        "id": "erJu-wzZTtsu",
        "outputId": "d269e664-b97c-4d04-b46c-9eaf76b49558"
      },
      "source": [
        "#Addition \"+\"\n",
        "print(12+15)"
      ],
      "execution_count": null,
      "outputs": [
        {
          "output_type": "stream",
          "text": [
            "27\n"
          ],
          "name": "stdout"
        }
      ]
    },
    {
      "cell_type": "code",
      "metadata": {
        "colab": {
          "base_uri": "https://localhost:8080/"
        },
        "id": "Lem-msG_UgKS",
        "outputId": "8aab7793-debb-4d93-e232-bd3bb4b2ea19"
      },
      "source": [
        "x = 12.5  #We can add Float and integer, but we cannot add string to integer or float.\n",
        "y = 15\n",
        "print(x+y)"
      ],
      "execution_count": null,
      "outputs": [
        {
          "output_type": "stream",
          "text": [
            "27.5\n"
          ],
          "name": "stdout"
        }
      ]
    },
    {
      "cell_type": "code",
      "metadata": {
        "colab": {
          "base_uri": "https://localhost:8080/"
        },
        "id": "wPWQrmqMU8mt",
        "outputId": "bbaf0e00-ea9e-464b-8b7b-4b8d7708051a"
      },
      "source": [
        "a = \"12\"\n",
        "b = \"Word\"\n",
        "print(a+b) #\"+\" is doing concatenation"
      ],
      "execution_count": null,
      "outputs": [
        {
          "output_type": "stream",
          "text": [
            "12Word\n"
          ],
          "name": "stdout"
        }
      ]
    },
    {
      "cell_type": "code",
      "metadata": {
        "colab": {
          "base_uri": "https://localhost:8080/"
        },
        "id": "a9Ne4fcEVlEJ",
        "outputId": "4a10cf5a-d3f9-4ae2-f3e7-cf176db4436a"
      },
      "source": [
        "#Subtraction \"-\"\n",
        "print(x-y)"
      ],
      "execution_count": null,
      "outputs": [
        {
          "output_type": "stream",
          "text": [
            "-2.5\n"
          ],
          "name": "stdout"
        }
      ]
    },
    {
      "cell_type": "code",
      "metadata": {
        "colab": {
          "base_uri": "https://localhost:8080/"
        },
        "id": "XODtAfuxVvXh",
        "outputId": "bb2a79ff-82e1-41aa-bd3c-a0f4974697f3"
      },
      "source": [
        "#Multiplication \"*\"\n",
        "print(x*y)"
      ],
      "execution_count": null,
      "outputs": [
        {
          "output_type": "stream",
          "text": [
            "187.5\n"
          ],
          "name": "stdout"
        }
      ]
    },
    {
      "cell_type": "code",
      "metadata": {
        "colab": {
          "base_uri": "https://localhost:8080/"
        },
        "id": "8xAulBM7WwAE",
        "outputId": "7de78490-13a8-47e7-8860-30008028a915"
      },
      "source": [
        "#DIVISION \"/\"\n",
        "print(y/x)"
      ],
      "execution_count": null,
      "outputs": [
        {
          "output_type": "stream",
          "text": [
            "1.2\n"
          ],
          "name": "stdout"
        }
      ]
    },
    {
      "cell_type": "code",
      "metadata": {
        "colab": {
          "base_uri": "https://localhost:8080/"
        },
        "id": "6HoOuG2BXPq1",
        "outputId": "6d4f5acc-e47c-40f2-d0a2-9888f8a98dac"
      },
      "source": [
        "#Floor Division \"//\"\n",
        "print(y//x)"
      ],
      "execution_count": null,
      "outputs": [
        {
          "output_type": "stream",
          "text": [
            "1.0\n"
          ],
          "name": "stdout"
        }
      ]
    },
    {
      "cell_type": "code",
      "metadata": {
        "colab": {
          "base_uri": "https://localhost:8080/"
        },
        "id": "gU1a-ZhlZ4CC",
        "outputId": "4b5601fc-36c9-4ed5-e404-46fc8995a48e"
      },
      "source": [
        "#Modulus \"%\"\n",
        "print(y%x) #To get Value of Remainder"
      ],
      "execution_count": null,
      "outputs": [
        {
          "output_type": "stream",
          "text": [
            "2.5\n"
          ],
          "name": "stdout"
        }
      ]
    }
  ]
}