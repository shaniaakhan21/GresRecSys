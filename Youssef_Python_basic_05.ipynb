{
  "nbformat": 4,
  "nbformat_minor": 0,
  "metadata": {
    "colab": {
      "name": "Youssef_Python_basic_05.ipynb",
      "provenance": [],
      "authorship_tag": "ABX9TyOrHGbpdhVNyausLEGJKa/X",
      "include_colab_link": true
    },
    "kernelspec": {
      "name": "python3",
      "display_name": "Python 3"
    },
    "language_info": {
      "name": "python"
    }
  },
  "cells": [
    {
      "cell_type": "markdown",
      "metadata": {
        "id": "view-in-github",
        "colab_type": "text"
      },
      "source": [
        "<a href=\"https://colab.research.google.com/github/shaniaakhan21/GresRecSys/blob/main/Youssef_Python_basic_05.ipynb\" target=\"_parent\"><img src=\"https://colab.research.google.com/assets/colab-badge.svg\" alt=\"Open In Colab\"/></a>"
      ]
    },
    {
      "cell_type": "markdown",
      "metadata": {
        "id": "qTb9_TBLzz1s"
      },
      "source": [
        "#ASSIGNMENT OPERATORS"
      ]
    },
    {
      "cell_type": "code",
      "metadata": {
        "colab": {
          "base_uri": "https://localhost:8080/"
        },
        "id": "puuIR9AQzuOM",
        "outputId": "f53065e2-943e-425b-83a6-2f5e6dc59f29"
      },
      "source": [
        "#\"=\" is operator to assign some values\n",
        "a = 10\n",
        "print(a)"
      ],
      "execution_count": null,
      "outputs": [
        {
          "output_type": "stream",
          "text": [
            "10\n"
          ],
          "name": "stdout"
        }
      ]
    },
    {
      "cell_type": "code",
      "metadata": {
        "colab": {
          "base_uri": "https://localhost:8080/"
        },
        "id": "wyBpdHsq0Mn0",
        "outputId": "87677349-f3a0-4e1c-d4c7-f3b4c22d2008"
      },
      "source": [
        "#\"==\" is used for comparing two values\n",
        "b = 20 \n",
        "print(a == b)"
      ],
      "execution_count": null,
      "outputs": [
        {
          "output_type": "stream",
          "text": [
            "False\n"
          ],
          "name": "stdout"
        }
      ]
    },
    {
      "cell_type": "code",
      "metadata": {
        "colab": {
          "base_uri": "https://localhost:8080/"
        },
        "id": "6WzGSj8i0ghf",
        "outputId": "3b8f93b3-3d2c-4900-b75d-11d2e2ca1846"
      },
      "source": [
        "#\"!=\" is used for comparing two values\n",
        "print(a != b)"
      ],
      "execution_count": null,
      "outputs": [
        {
          "output_type": "stream",
          "text": [
            "True\n"
          ],
          "name": "stdout"
        }
      ]
    },
    {
      "cell_type": "code",
      "metadata": {
        "colab": {
          "base_uri": "https://localhost:8080/"
        },
        "id": "3516awsq00VY",
        "outputId": "e99e51a4-bc6e-4775-e11d-f3dc7347f7dc"
      },
      "source": [
        "#\"+=\" is used for adding some values, x = x+2 or x += 2\n",
        "b = 20 \n",
        "b += 2\n",
        "print(b)"
      ],
      "execution_count": null,
      "outputs": [
        {
          "output_type": "stream",
          "text": [
            "22\n"
          ],
          "name": "stdout"
        }
      ]
    },
    {
      "cell_type": "code",
      "metadata": {
        "colab": {
          "base_uri": "https://localhost:8080/"
        },
        "id": "KCoNUoBB1jrp",
        "outputId": "12dc8c77-d0e9-4e56-c392-1a90bd1bf30c"
      },
      "source": [
        "#\"-=\" is used of subtracting the values, x = x - 2 or x -= 2 \n",
        "b -= 2\n",
        "print(b)"
      ],
      "execution_count": null,
      "outputs": [
        {
          "output_type": "stream",
          "text": [
            "20\n"
          ],
          "name": "stdout"
        }
      ]
    },
    {
      "cell_type": "code",
      "metadata": {
        "colab": {
          "base_uri": "https://localhost:8080/"
        },
        "id": "yvxluBQ02OUt",
        "outputId": "2152e396-031c-4e0e-d922-383847a00171"
      },
      "source": [
        "#\"*=\" is used for multiplication , x = x * 2 or x *= 2\n",
        "b *= 2\n",
        "print(b)"
      ],
      "execution_count": null,
      "outputs": [
        {
          "output_type": "stream",
          "text": [
            "40\n"
          ],
          "name": "stdout"
        }
      ]
    },
    {
      "cell_type": "code",
      "metadata": {
        "colab": {
          "base_uri": "https://localhost:8080/"
        },
        "id": "GIrwCByU22tu",
        "outputId": "efab1fa8-c5db-4a83-dd7f-106931725aca"
      },
      "source": [
        "#\"/=\" is used for division, x = x/2 or x /= 2\n",
        "b /= 2\n",
        "print(b)"
      ],
      "execution_count": null,
      "outputs": [
        {
          "output_type": "stream",
          "text": [
            "20.0\n"
          ],
          "name": "stdout"
        }
      ]
    },
    {
      "cell_type": "code",
      "metadata": {
        "colab": {
          "base_uri": "https://localhost:8080/"
        },
        "id": "Ued0dK4z3X8h",
        "outputId": "9bb46d39-7ae4-4d50-feaf-ca4a79cb7746"
      },
      "source": [
        "#\"%=\" is used to get the remainder, x = x % 2 or x %= 2\n",
        "b = 20\n",
        "b %= 2\n",
        "print(b)"
      ],
      "execution_count": null,
      "outputs": [
        {
          "output_type": "stream",
          "text": [
            "0\n"
          ],
          "name": "stdout"
        }
      ]
    },
    {
      "cell_type": "code",
      "metadata": {
        "colab": {
          "base_uri": "https://localhost:8080/"
        },
        "id": "qh0Pnkqd38lJ",
        "outputId": "e70b2bcd-45a7-4c4c-ae2a-bb59940beab7"
      },
      "source": [
        "#\"//=\" is used to get the quotient value.\n",
        "b = 20\n",
        "b //= 3\n",
        "print(b)"
      ],
      "execution_count": null,
      "outputs": [
        {
          "output_type": "stream",
          "text": [
            "6\n"
          ],
          "name": "stdout"
        }
      ]
    },
    {
      "cell_type": "code",
      "metadata": {
        "colab": {
          "base_uri": "https://localhost:8080/"
        },
        "id": "YmlnO_F_5XzG",
        "outputId": "226c485b-c702-4558-d786-82669e9a227e"
      },
      "source": [
        "#\"**\" \n",
        "t = 3\n",
        "print(t**3)\n",
        "print(t)"
      ],
      "execution_count": null,
      "outputs": [
        {
          "output_type": "stream",
          "text": [
            "27\n",
            "3\n"
          ],
          "name": "stdout"
        }
      ]
    },
    {
      "cell_type": "code",
      "metadata": {
        "colab": {
          "base_uri": "https://localhost:8080/"
        },
        "id": "-nxUbONg5zCx",
        "outputId": "0fc952e4-2051-46b3-e51d-a7f2160e01ea"
      },
      "source": [
        "#\"**=\" , x = x ** 2 or x **= 2\n",
        "t **= 3\n",
        "print(t)"
      ],
      "execution_count": null,
      "outputs": [
        {
          "output_type": "stream",
          "text": [
            "27\n"
          ],
          "name": "stdout"
        }
      ]
    },
    {
      "cell_type": "markdown",
      "metadata": {
        "id": "5r_6L1fP6noq"
      },
      "source": [
        "#COMPARISON OPERATORS"
      ]
    },
    {
      "cell_type": "code",
      "metadata": {
        "id": "LFonrN0a6tbp"
      },
      "source": [
        "#\"==\"\n",
        "#\"!=\""
      ],
      "execution_count": null,
      "outputs": []
    },
    {
      "cell_type": "code",
      "metadata": {
        "colab": {
          "base_uri": "https://localhost:8080/"
        },
        "id": "3GSifueR65mU",
        "outputId": "98f00a74-86d6-48b6-83b5-cf46802b1c4a"
      },
      "source": [
        "#\"<\" or \">\"\n",
        "x = 10\n",
        "y = 20\n",
        "print(x>y)\n",
        "print(x<y)"
      ],
      "execution_count": null,
      "outputs": [
        {
          "output_type": "stream",
          "text": [
            "False\n",
            "True\n"
          ],
          "name": "stdout"
        }
      ]
    },
    {
      "cell_type": "code",
      "metadata": {
        "colab": {
          "base_uri": "https://localhost:8080/"
        },
        "id": "1rA3arbF8ej6",
        "outputId": "e05f8618-c12c-4497-9bda-c3e6d19c1ba3"
      },
      "source": [
        "#\">=\" if a is greater or equal to b\n",
        "a = 20\n",
        "b = 10\n",
        "print(a>=b)"
      ],
      "execution_count": null,
      "outputs": [
        {
          "output_type": "stream",
          "text": [
            "True\n"
          ],
          "name": "stdout"
        }
      ]
    },
    {
      "cell_type": "code",
      "metadata": {
        "colab": {
          "base_uri": "https://localhost:8080/"
        },
        "id": "dCb71vMv87gR",
        "outputId": "fc0d7ae5-1e08-4b85-aa28-f00ddf4561ef"
      },
      "source": [
        "#\"<=\" if a is smaller than or equal to b\n",
        "print(a<=b)"
      ],
      "execution_count": null,
      "outputs": [
        {
          "output_type": "stream",
          "text": [
            "False\n"
          ],
          "name": "stdout"
        }
      ]
    },
    {
      "cell_type": "markdown",
      "metadata": {
        "id": "5l1M5BYM9mUu"
      },
      "source": [
        "#LOGICAL OPERATORS"
      ]
    },
    {
      "cell_type": "code",
      "metadata": {
        "colab": {
          "base_uri": "https://localhost:8080/"
        },
        "id": "-j-RjcvJ9vqu",
        "outputId": "1133c83c-1105-4784-f6d3-a7dda4bc8eb3"
      },
      "source": [
        "#\"and\" , if both the values are True then it will return True value\n",
        "a = 10\n",
        "b = 20\n",
        "print(a>b and b>10)"
      ],
      "execution_count": null,
      "outputs": [
        {
          "output_type": "stream",
          "text": [
            "False\n"
          ],
          "name": "stdout"
        }
      ]
    },
    {
      "cell_type": "code",
      "metadata": {
        "colab": {
          "base_uri": "https://localhost:8080/"
        },
        "id": "IZOD8MnC-Lk4",
        "outputId": "e4a4f385-1055-444d-b671-632054c008cb"
      },
      "source": [
        "#\"or\" , if one of the values is True then it will return True value\n",
        "print(a>b or b>10)"
      ],
      "execution_count": null,
      "outputs": [
        {
          "output_type": "stream",
          "text": [
            "True\n"
          ],
          "name": "stdout"
        }
      ]
    },
    {
      "cell_type": "code",
      "metadata": {
        "colab": {
          "base_uri": "https://localhost:8080/"
        },
        "id": "5EuVSz8e-kiP",
        "outputId": "a3da0157-0930-4134-afba-394d6c1fffc3"
      },
      "source": [
        "#\"not\", reverses the values\n",
        "print(not a>b )\n",
        "print(not (a>b or b>10))"
      ],
      "execution_count": null,
      "outputs": [
        {
          "output_type": "stream",
          "text": [
            "True\n",
            "False\n"
          ],
          "name": "stdout"
        }
      ]
    },
    {
      "cell_type": "markdown",
      "metadata": {
        "id": "Jo95GFqyOgTz"
      },
      "source": [
        "#Identity Operators"
      ]
    },
    {
      "cell_type": "code",
      "metadata": {
        "colab": {
          "base_uri": "https://localhost:8080/"
        },
        "id": "-Eqol10VOp0L",
        "outputId": "6df07655-0e79-419e-857f-9e1683778137"
      },
      "source": [
        "#\"is\"\n",
        "c = 15\n",
        "d = 20 \n",
        "print(c is d)"
      ],
      "execution_count": null,
      "outputs": [
        {
          "output_type": "stream",
          "text": [
            "False\n"
          ],
          "name": "stdout"
        }
      ]
    },
    {
      "cell_type": "code",
      "metadata": {
        "colab": {
          "base_uri": "https://localhost:8080/"
        },
        "id": "IjRW1uDgPMPb",
        "outputId": "c288affe-5612-48ee-e92b-caf769a76458"
      },
      "source": [
        "print(c is not d)"
      ],
      "execution_count": null,
      "outputs": [
        {
          "output_type": "stream",
          "text": [
            "True\n"
          ],
          "name": "stdout"
        }
      ]
    },
    {
      "cell_type": "markdown",
      "metadata": {
        "id": "ymh-TlQuPUb6"
      },
      "source": [
        "#Membership Operators"
      ]
    },
    {
      "cell_type": "code",
      "metadata": {
        "colab": {
          "base_uri": "https://localhost:8080/"
        },
        "id": "ywlEYAf_PYRW",
        "outputId": "c8a69cb6-e608-42a2-80f8-933dfc6dc347"
      },
      "source": [
        "#\"in\" , to check value exists within something(like string) or not\n",
        "name = \"Shaniya Khan\"\n",
        "print('z' in name)"
      ],
      "execution_count": null,
      "outputs": [
        {
          "output_type": "stream",
          "text": [
            "False\n"
          ],
          "name": "stdout"
        }
      ]
    },
    {
      "cell_type": "code",
      "metadata": {
        "id": "DrQEyDerP4kW",
        "colab": {
          "base_uri": "https://localhost:8080/"
        },
        "outputId": "b918d1a8-2062-4b26-8c1d-07582a1bfeb0"
      },
      "source": [
        "#\"not in\"\n",
        "print('z' not in name)"
      ],
      "execution_count": null,
      "outputs": [
        {
          "output_type": "stream",
          "text": [
            "True\n"
          ],
          "name": "stdout"
        }
      ]
    }
  ]
}