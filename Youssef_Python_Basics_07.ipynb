{
  "nbformat": 4,
  "nbformat_minor": 0,
  "metadata": {
    "colab": {
      "name": "Youssef_Python_Basics_07.ipynb",
      "provenance": [],
      "authorship_tag": "ABX9TyPGLH6BChhrLv3wATjTkvI0",
      "include_colab_link": true
    },
    "kernelspec": {
      "name": "python3",
      "display_name": "Python 3"
    },
    "language_info": {
      "name": "python"
    }
  },
  "cells": [
    {
      "cell_type": "markdown",
      "metadata": {
        "id": "view-in-github",
        "colab_type": "text"
      },
      "source": [
        "<a href=\"https://colab.research.google.com/github/shaniaakhan21/GresRecSys/blob/main/Youssef_Python_Basics_07.ipynb\" target=\"_parent\"><img src=\"https://colab.research.google.com/assets/colab-badge.svg\" alt=\"Open In Colab\"/></a>"
      ]
    },
    {
      "cell_type": "markdown",
      "metadata": {
        "id": "G2yXUQ78wGFE"
      },
      "source": [
        "#Slicing Of a list\n",
        "name_of_list[index_value_of_starting_element : index_value_of_last_element+1]"
      ]
    },
    {
      "cell_type": "code",
      "metadata": {
        "colab": {
          "base_uri": "https://localhost:8080/"
        },
        "id": "-MLqq_noxfd7",
        "outputId": "311caf68-b6d0-40c1-947f-043ad4c14c54"
      },
      "source": [
        "Vegetables = [\"onion\",\"tomato\",\"potato\",\"capsicum\",\"brinjal\",\"cauliflour\",\"carrot\",\"cucumber\",\"bitter gaurd\",\"lady finger\",\"raddish\"]\n",
        "print(Vegetables)"
      ],
      "execution_count": null,
      "outputs": [
        {
          "output_type": "stream",
          "text": [
            "['onion', 'tomato', 'potato', 'capsicum', 'brinjal', 'cauliflour', 'carrot', 'cucumber', 'bitter gaurd', 'lady finger', 'raddish']\n"
          ],
          "name": "stdout"
        }
      ]
    },
    {
      "cell_type": "code",
      "metadata": {
        "colab": {
          "base_uri": "https://localhost:8080/"
        },
        "id": "K-OwTCSsyUWc",
        "outputId": "9deaa8b9-2096-40ec-c787-f08e18096033"
      },
      "source": [
        "print(Vegetables[3:9])\n",
        "print(Vegetables[-9:-2])\n",
        "print(Vegetables[:])\n",
        "print(Vegetables[:5])\n",
        "print(Vegetables[1:])"
      ],
      "execution_count": null,
      "outputs": [
        {
          "output_type": "stream",
          "text": [
            "['capsicum', 'brinjal', 'cauliflour', 'carrot', 'cucumber', 'bitter gaurd']\n",
            "['potato', 'capsicum', 'brinjal', 'cauliflour', 'carrot', 'cucumber', 'bitter gaurd']\n",
            "['onion', 'tomato', 'potato', 'capsicum', 'brinjal', 'cauliflour', 'carrot', 'cucumber', 'bitter gaurd', 'lady finger', 'raddish']\n",
            "['onion', 'tomato', 'potato', 'capsicum', 'brinjal']\n",
            "['tomato', 'potato', 'capsicum', 'brinjal', 'cauliflour', 'carrot', 'cucumber', 'bitter gaurd', 'lady finger', 'raddish']\n"
          ],
          "name": "stdout"
        }
      ]
    },
    {
      "cell_type": "markdown",
      "metadata": {
        "id": "AWsFEMVz12TK"
      },
      "source": [
        "#Add or change the items/elements of a list."
      ]
    },
    {
      "cell_type": "code",
      "metadata": {
        "colab": {
          "base_uri": "https://localhost:8080/"
        },
        "id": "0QKhEluC1-Tc",
        "outputId": "393838b9-567e-44ec-fbee-a13f0057db2f"
      },
      "source": [
        "#append() : will add the item to the end of the list.\n",
        "Vegetables.append(\"Apple\")\n",
        "print(Vegetables)"
      ],
      "execution_count": null,
      "outputs": [
        {
          "output_type": "stream",
          "text": [
            "['onion', 'tomato', 'potato', 'capsicum', 'brinjal', 'cauliflour', 'carrot', 'cucumber', 'bitter gaurd', 'lady finger', 'raddish', 'Apple', 'Apple']\n"
          ],
          "name": "stdout"
        }
      ]
    },
    {
      "cell_type": "code",
      "metadata": {
        "colab": {
          "base_uri": "https://localhost:8080/"
        },
        "id": "A558Wtim3C9p",
        "outputId": "b91bbee9-5208-4e3f-e073-5233c118803b"
      },
      "source": [
        "#insert(index_value_of_new_item, value)\n",
        "Vegetables.insert(2,5)\n",
        "print(Vegetables)"
      ],
      "execution_count": null,
      "outputs": [
        {
          "output_type": "stream",
          "text": [
            "['onion', 'tomato', 5, 'Mango', 'potato', 'capsicum', 'brinjal', 'cauliflour', 'carrot', 'cucumber', 'bitter gaurd', 'lady finger', 'raddish', 'Apple', 'Apple']\n"
          ],
          "name": "stdout"
        }
      ]
    },
    {
      "cell_type": "code",
      "metadata": {
        "colab": {
          "base_uri": "https://localhost:8080/"
        },
        "id": "-Z2p61p54AIP",
        "outputId": "fd1388ba-24ae-4ac4-dbf0-c5034ac79bfc"
      },
      "source": [
        "#Method to add more than one items to a list.\n",
        "Vegetables[4:6] = [\"car\", \"bike\",\"scooter\"]\n",
        "print(Vegetables)"
      ],
      "execution_count": null,
      "outputs": [
        {
          "output_type": "stream",
          "text": [
            "['onion', 'tomato', 5, 'Mango', 'car', 'bike', 'scooter', 'capsicum', 'brinjal', 'cauliflour', 'carrot', 'cucumber', 'bitter gaurd', 'lady finger', 'raddish', 'Apple', 'Apple']\n"
          ],
          "name": "stdout"
        }
      ]
    },
    {
      "cell_type": "markdown",
      "metadata": {
        "id": "XeMAlt655DYO"
      },
      "source": [
        "#Delete or remove items from a list."
      ]
    },
    {
      "cell_type": "code",
      "metadata": {
        "colab": {
          "base_uri": "https://localhost:8080/"
        },
        "id": "3hcB1Zgo5Lji",
        "outputId": "af0920bf-f247-47fe-b595-811898eaa04c"
      },
      "source": [
        "#'del' : Deletes items from a list.\n",
        "del Vegetables[2]\n",
        "print(Vegetables)"
      ],
      "execution_count": null,
      "outputs": [
        {
          "output_type": "stream",
          "text": [
            "['onion', 'tomato', 'Mango', 'car', 'bike', 'scooter', 'capsicum', 'brinjal', 'cauliflour', 'carrot', 'cucumber', 'bitter gaurd', 'lady finger', 'raddish', 'Apple', 'Apple']\n"
          ],
          "name": "stdout"
        }
      ]
    },
    {
      "cell_type": "code",
      "metadata": {
        "colab": {
          "base_uri": "https://localhost:8080/"
        },
        "id": "mrKLAh2Y5fXl",
        "outputId": "89a6df36-ebba-4a56-82b8-bafee0c9dabe"
      },
      "source": [
        "#remove()\n",
        "Vegetables.remove(\"Apple\")\n",
        "print(Vegetables)"
      ],
      "execution_count": null,
      "outputs": [
        {
          "output_type": "stream",
          "text": [
            "['onion', 'tomato', 'Mango', 'car', 'bike', 'scooter', 'capsicum', 'brinjal', 'cauliflour', 'carrot', 'cucumber', 'bitter gaurd', 'lady finger', 'raddish', 'Apple']\n"
          ],
          "name": "stdout"
        }
      ]
    },
    {
      "cell_type": "code",
      "metadata": {
        "colab": {
          "base_uri": "https://localhost:8080/"
        },
        "id": "paTZYt3k5xwO",
        "outputId": "b510d40f-031f-4805-d0f6-7493fba5f744"
      },
      "source": [
        "#pop()\n",
        "Vegetables.pop() #will remove last item from the list\n",
        "print(Vegetables)"
      ],
      "execution_count": null,
      "outputs": [
        {
          "output_type": "stream",
          "text": [
            "['onion', 'tomato', 'Mango', 'car', 'bike', 'scooter', 'capsicum', 'brinjal', 'cauliflour', 'carrot', 'cucumber', 'bitter gaurd', 'lady finger', 'raddish']\n"
          ],
          "name": "stdout"
        }
      ]
    },
    {
      "cell_type": "code",
      "metadata": {
        "colab": {
          "base_uri": "https://localhost:8080/"
        },
        "id": "XiMBv5lv6GJ4",
        "outputId": "948ae3f0-9647-4eec-ec71-f05c10cf9c19"
      },
      "source": [
        "Vegetables.pop(2)\n",
        "print(Vegetables)"
      ],
      "execution_count": null,
      "outputs": [
        {
          "output_type": "stream",
          "text": [
            "['onion', 'tomato', 'car', 'bike', 'scooter', 'capsicum', 'brinjal', 'cauliflour', 'carrot', 'cucumber', 'bitter gaurd', 'lady finger', 'raddish']\n"
          ],
          "name": "stdout"
        }
      ]
    },
    {
      "cell_type": "code",
      "metadata": {
        "colab": {
          "base_uri": "https://localhost:8080/"
        },
        "id": "GqHZOtIV6U0i",
        "outputId": "d8ce2eb0-529d-4ba4-fa56-e233811842fe"
      },
      "source": [
        "#clear(): Deletes all the elements of the list and will make it empty\n",
        "Vegetables.clear()\n",
        "print(Vegetables)"
      ],
      "execution_count": null,
      "outputs": [
        {
          "output_type": "stream",
          "text": [
            "[]\n"
          ],
          "name": "stdout"
        }
      ]
    }
  ]
}