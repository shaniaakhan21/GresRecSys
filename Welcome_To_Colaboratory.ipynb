{
  "nbformat": 4,
  "nbformat_minor": 0,
  "metadata": {
    "colab": {
      "name": "Welcome To Colaboratory",
      "provenance": [],
      "collapsed_sections": [],
      "include_colab_link": true
    },
    "kernelspec": {
      "display_name": "Python 3",
      "name": "python3"
    }
  },
  "cells": [
    {
      "cell_type": "markdown",
      "metadata": {
        "id": "view-in-github",
        "colab_type": "text"
      },
      "source": [
        "<a href=\"https://colab.research.google.com/github/shaniaakhan21/GresRecSys/blob/main/Welcome_To_Colaboratory.ipynb\" target=\"_parent\"><img src=\"https://colab.research.google.com/assets/colab-badge.svg\" alt=\"Open In Colab\"/></a>"
      ]
    },
    {
      "cell_type": "markdown",
      "metadata": {
        "id": "kDDggbBqcebE"
      },
      "source": [
        "PYTHON PROGRAMMING\n"
      ]
    },
    {
      "cell_type": "code",
      "metadata": {
        "id": "IAx4VvWFMgaM"
      },
      "source": [
        "#import turtle\n",
        "'''this is  the first \n",
        "python'''"
      ],
      "execution_count": 1,
      "outputs": []
    },
    {
      "cell_type": "markdown",
      "metadata": {
        "id": "yM70VlFbNHjV"
      },
      "source": [
        "VARIABLES\n"
      ]
    },
    {
      "cell_type": "code",
      "metadata": {
        "colab": {
          "base_uri": "https://localhost:8080/"
        },
        "id": "3hbq0pv7NMO_",
        "outputId": "f2af4730-07f9-4bdc-cc28-bf4be2950422"
      },
      "source": [
        "name = \"SHANIYA\"\n",
        "age = \"25\"\n",
        "_country = \"INDIA\"\n",
        "city_01 = \"LUDHIANA\"\n",
        "print(name, age, _country, city_01)"
      ],
      "execution_count": 6,
      "outputs": [
        {
          "output_type": "stream",
          "text": [
            "SHANIYA 25 INDIA LUDHIANA\n"
          ],
          "name": "stdout"
        }
      ]
    },
    {
      "cell_type": "markdown",
      "metadata": {
        "id": "gkLGw-t0PAbF"
      },
      "source": [
        "STRINGS\n"
      ]
    },
    {
      "cell_type": "code",
      "metadata": {
        "colab": {
          "base_uri": "https://localhost:8080/"
        },
        "id": "_SOUwMNgPDrH",
        "outputId": "721e5e25-a5af-4dfc-fca9-0a359cb9e76b"
      },
      "source": [
        "print(type(age))"
      ],
      "execution_count": 7,
      "outputs": [
        {
          "output_type": "stream",
          "text": [
            "<class 'str'>\n"
          ],
          "name": "stdout"
        }
      ]
    },
    {
      "cell_type": "code",
      "metadata": {
        "colab": {
          "base_uri": "https://localhost:8080/"
        },
        "id": "Ng1NIyRlPn6R",
        "outputId": "c0e313c4-51fd-48f8-935b-a504240c76f8"
      },
      "source": [
        "print(age,+25)"
      ],
      "execution_count": 9,
      "outputs": [
        {
          "output_type": "stream",
          "text": [
            "25 25\n"
          ],
          "name": "stdout"
        }
      ]
    },
    {
      "cell_type": "code",
      "metadata": {
        "colab": {
          "base_uri": "https://localhost:8080/"
        },
        "id": "OmosoA3JQLH_",
        "outputId": "62841c9b-011f-4b0d-ef20-ff1d3397f422"
      },
      "source": [
        "print(name+\" \"+_country)"
      ],
      "execution_count": 11,
      "outputs": [
        {
          "output_type": "stream",
          "text": [
            "SHANIYA INDIA\n"
          ],
          "name": "stdout"
        }
      ]
    },
    {
      "cell_type": "code",
      "metadata": {
        "colab": {
          "base_uri": "https://localhost:8080/"
        },
        "id": "wpMdmKZvQlDs",
        "outputId": "62dda655-37a2-4f40-be1b-d5c5c6264466"
      },
      "source": [
        "print(False)"
      ],
      "execution_count": 13,
      "outputs": [
        {
          "output_type": "stream",
          "text": [
            "False\n"
          ],
          "name": "stdout"
        }
      ]
    },
    {
      "cell_type": "code",
      "metadata": {
        "colab": {
          "base_uri": "https://localhost:8080/"
        },
        "id": "1nic_zVVQw96",
        "outputId": "c8774005-1a71-475f-823e-bfe2c922ed69"
      },
      "source": [
        "print(1.00002)"
      ],
      "execution_count": 14,
      "outputs": [
        {
          "output_type": "stream",
          "text": [
            "1.00002\n"
          ],
          "name": "stdout"
        }
      ]
    },
    {
      "cell_type": "code",
      "metadata": {
        "colab": {
          "base_uri": "https://localhost:8080/"
        },
        "id": "Tki_75SnQ7xq",
        "outputId": "3305b7c4-650e-404b-a982-3cbaebc24faf"
      },
      "source": [
        "fl = 1.00002\n",
        "print(type(fl))"
      ],
      "execution_count": 16,
      "outputs": [
        {
          "output_type": "stream",
          "text": [
            "<class 'float'>\n"
          ],
          "name": "stdout"
        }
      ]
    },
    {
      "cell_type": "markdown",
      "metadata": {
        "id": "1Fgo6QGBRQP8"
      },
      "source": [
        "AIRTHMETIC OPERATIONS"
      ]
    },
    {
      "cell_type": "code",
      "metadata": {
        "id": "3UKD-m5LRS7v"
      },
      "source": [
        "#ADDITION"
      ],
      "execution_count": null,
      "outputs": []
    },
    {
      "cell_type": "code",
      "metadata": {
        "colab": {
          "base_uri": "https://localhost:8080/"
        },
        "id": "GKLW9MyeRaJN",
        "outputId": "67667b1d-fbe6-4eef-f99e-f38e0f850830"
      },
      "source": [
        "x = 2500\n",
        "y = 870\n",
        "print(x+y)"
      ],
      "execution_count": 17,
      "outputs": [
        {
          "output_type": "stream",
          "text": [
            "3370\n"
          ],
          "name": "stdout"
        }
      ]
    },
    {
      "cell_type": "code",
      "metadata": {
        "id": "5WXSO7tHRncM"
      },
      "source": [
        "#CONCATINATION"
      ],
      "execution_count": null,
      "outputs": []
    },
    {
      "cell_type": "code",
      "metadata": {
        "colab": {
          "base_uri": "https://localhost:8080/"
        },
        "id": "04XVYf2TRqcz",
        "outputId": "590558fc-45b9-4ab9-d527-97b109cc0516"
      },
      "source": [
        "x = \"2500\"\n",
        "y = \"870\"\n",
        "print(x+y)"
      ],
      "execution_count": 18,
      "outputs": [
        {
          "output_type": "stream",
          "text": [
            "2500870\n"
          ],
          "name": "stdout"
        }
      ]
    },
    {
      "cell_type": "markdown",
      "metadata": {
        "id": "c8WdaCJ2R4wW"
      },
      "source": [
        "SUBTRACTION"
      ]
    },
    {
      "cell_type": "code",
      "metadata": {
        "colab": {
          "base_uri": "https://localhost:8080/"
        },
        "id": "zHXe2EaRR9WM",
        "outputId": "84654754-2099-46d0-d803-eb31e3851cb6"
      },
      "source": [
        "p = 95000\n",
        "q = 8000\n",
        "print(p-q)"
      ],
      "execution_count": 20,
      "outputs": [
        {
          "output_type": "stream",
          "text": [
            "87000\n"
          ],
          "name": "stdout"
        }
      ]
    },
    {
      "cell_type": "markdown",
      "metadata": {
        "id": "KhGjrRFkSZvQ"
      },
      "source": [
        "MULTIPLICATION"
      ]
    },
    {
      "cell_type": "code",
      "metadata": {
        "colab": {
          "base_uri": "https://localhost:8080/"
        },
        "id": "iIQKfmmzSc0G",
        "outputId": "e31a4c52-e480-4c24-a055-4351b2c6dba1"
      },
      "source": [
        "print(p*q)"
      ],
      "execution_count": 21,
      "outputs": [
        {
          "output_type": "stream",
          "text": [
            "760000000\n"
          ],
          "name": "stdout"
        }
      ]
    },
    {
      "cell_type": "markdown",
      "metadata": {
        "id": "azRQMeO8SjIK"
      },
      "source": [
        "DIVIDE"
      ]
    },
    {
      "cell_type": "code",
      "metadata": {
        "colab": {
          "base_uri": "https://localhost:8080/"
        },
        "id": "BPUNDHDnSlBH",
        "outputId": "e79d40e6-4d97-4487-92bc-18f3a250fcf8"
      },
      "source": [
        "print(p/q)\n",
        "print(p//q) #will give the value of the quotient."
      ],
      "execution_count": 23,
      "outputs": [
        {
          "output_type": "stream",
          "text": [
            "11.875\n",
            "11\n"
          ],
          "name": "stdout"
        }
      ]
    },
    {
      "cell_type": "markdown",
      "metadata": {
        "id": "Vt8ShbagTALL"
      },
      "source": [
        "Modulus"
      ]
    },
    {
      "cell_type": "code",
      "metadata": {
        "colab": {
          "base_uri": "https://localhost:8080/"
        },
        "id": "QfC73AIlS_ku",
        "outputId": "4e598871-350a-4239-ff76-8a11f10c4139"
      },
      "source": [
        "print(p%q)\n",
        "a = 5\n",
        "b = 2\n",
        "print(a%b) #It will return the value of remainder."
      ],
      "execution_count": 30,
      "outputs": [
        {
          "output_type": "stream",
          "text": [
            "7000\n",
            "1\n"
          ],
          "name": "stdout"
        }
      ]
    },
    {
      "cell_type": "markdown",
      "metadata": {
        "id": "dzo65rQeTm3i"
      },
      "source": [
        "ASSIGNMENT OPERATORS"
      ]
    },
    {
      "cell_type": "code",
      "metadata": {
        "id": "wQfOa1hrUHwv"
      },
      "source": [
        "#\"=\" is operator to assign some value."
      ],
      "execution_count": 26,
      "outputs": []
    },
    {
      "cell_type": "code",
      "metadata": {
        "colab": {
          "base_uri": "https://localhost:8080/"
        },
        "id": "6Dxv_uDOUY8I",
        "outputId": "c4b41a0a-1691-4fc2-b11a-c1fbdda4a16e"
      },
      "source": [
        "#\"==\" is operator for comparing two values.\n",
        "print(a==b)"
      ],
      "execution_count": 31,
      "outputs": [
        {
          "output_type": "stream",
          "text": [
            "False\n"
          ],
          "name": "stdout"
        }
      ]
    },
    {
      "cell_type": "code",
      "metadata": {
        "colab": {
          "base_uri": "https://localhost:8080/"
        },
        "id": "vRbEKeuVUxsX",
        "outputId": "3be6a379-af23-4563-c217-457f23657666"
      },
      "source": [
        "#\"!=\" is \"not equal to\" operator , for comparing the two values\n",
        "print(a!=b)"
      ],
      "execution_count": 32,
      "outputs": [
        {
          "output_type": "stream",
          "text": [
            "True\n"
          ],
          "name": "stdout"
        }
      ]
    },
    {
      "cell_type": "code",
      "metadata": {
        "colab": {
          "base_uri": "https://localhost:8080/"
        },
        "id": "kZsg_wU3VMxa",
        "outputId": "d10d3484-7e79-4b29-89a9-52fa5547ade2"
      },
      "source": [
        "#\"+=\" is operator for adding some values, x=x+4 or x+=4\n",
        "d = 2\n",
        "d += 4 # d = d+4 \n",
        "print(d)"
      ],
      "execution_count": 35,
      "outputs": [
        {
          "output_type": "stream",
          "text": [
            "6\n"
          ],
          "name": "stdout"
        }
      ]
    },
    {
      "cell_type": "code",
      "metadata": {
        "colab": {
          "base_uri": "https://localhost:8080/"
        },
        "id": "OjGM7Z-XWael",
        "outputId": "2b761eb8-3364-4a61-ae59-384a61b2f712"
      },
      "source": [
        "#\"-=\" is operator for subtracting the values, x = x-2 or x-=2\n",
        "j = 10\n",
        "j -= 2\n",
        "print(j)"
      ],
      "execution_count": 36,
      "outputs": [
        {
          "output_type": "stream",
          "text": [
            "8\n"
          ],
          "name": "stdout"
        }
      ]
    },
    {
      "cell_type": "code",
      "metadata": {
        "colab": {
          "base_uri": "https://localhost:8080/"
        },
        "id": "Xit8F8O5W2wP",
        "outputId": "fd7ae9ab-d0f2-450e-f2e0-991218220f70"
      },
      "source": [
        "#\"*=\" is operator for multiplication, x = x*2 or x*=2\n",
        "#\"%=\" is operator for modulus, x = x%2 or x%=2\n",
        "#\"/=\" is operator for division, x = x/2 or x/=2\n",
        "#\"//=\" is operator for finding quotient, x = x//2 or x//=2\n",
        "g = 4\n",
        "g *=4\n",
        "print(g)\n",
        "g/=2\n",
        "print(g)\n",
        "g//=2\n",
        "print(g)\n",
        "g%=2\n",
        "print(g)"
      ],
      "execution_count": 40,
      "outputs": [
        {
          "output_type": "stream",
          "text": [
            "16\n",
            "8.0\n",
            "4.0\n",
            "0.0\n"
          ],
          "name": "stdout"
        }
      ]
    },
    {
      "cell_type": "code",
      "metadata": {
        "colab": {
          "base_uri": "https://localhost:8080/"
        },
        "id": "DzN2G2PmYV1m",
        "outputId": "fd336d45-a5ce-45d7-b8f9-ba57fcea7def"
      },
      "source": [
        "#\"**\" is syntax for finding the square\n",
        "t = 3\n",
        "print(t**2)"
      ],
      "execution_count": 42,
      "outputs": [
        {
          "output_type": "stream",
          "text": [
            "9\n"
          ],
          "name": "stdout"
        }
      ]
    },
    {
      "cell_type": "code",
      "metadata": {
        "colab": {
          "base_uri": "https://localhost:8080/"
        },
        "id": "C4gw-whuY1Ft",
        "outputId": "04453bf4-cc0e-47e3-8256-e281d1c6fb10"
      },
      "source": [
        "#\"**=\" is operator for squaring a number, t = t ** 2 or t **=2\n",
        "t = 4\n",
        "t **= 2\n",
        "print(t)"
      ],
      "execution_count": 43,
      "outputs": [
        {
          "output_type": "stream",
          "text": [
            "16\n"
          ],
          "name": "stdout"
        }
      ]
    }
  ]
}