{
  "nbformat": 4,
  "nbformat_minor": 0,
  "metadata": {
    "colab": {
      "name": "Ryan_PYTHON_BASICS_01.ipynb",
      "provenance": [],
      "authorship_tag": "ABX9TyP+QFQzeuHKnk9/nPQt+vQ+",
      "include_colab_link": true
    },
    "kernelspec": {
      "name": "python3",
      "display_name": "Python 3"
    },
    "language_info": {
      "name": "python"
    }
  },
  "cells": [
    {
      "cell_type": "markdown",
      "metadata": {
        "id": "view-in-github",
        "colab_type": "text"
      },
      "source": [
        "<a href=\"https://colab.research.google.com/github/shaniaakhan21/GresRecSys/blob/main/Ryan_PYTHON_BASICS_01.ipynb\" target=\"_parent\"><img src=\"https://colab.research.google.com/assets/colab-badge.svg\" alt=\"Open In Colab\"/></a>"
      ]
    },
    {
      "cell_type": "markdown",
      "metadata": {
        "id": "Lm8K79T5vC2X"
      },
      "source": [
        "#Comments in Python"
      ]
    },
    {
      "cell_type": "code",
      "metadata": {
        "colab": {
          "base_uri": "https://localhost:8080/",
          "height": 52
        },
        "id": "6ZafBDTYvJv9",
        "outputId": "700e0113-0221-4c15-b006-63e97a5bf34b"
      },
      "source": [
        "#it's my first class.\n",
        "'''it's my first class. it's my first class.it's my first class.it's my first class.it's my first class.\n",
        "it's my first class.it's my first class.it's my first class.\n",
        "it's my first class. it's my first class. it's my first class.\n",
        "it's my first class.'''\n"
      ],
      "execution_count": 3,
      "outputs": [
        {
          "output_type": "execute_result",
          "data": {
            "application/vnd.google.colaboratory.intrinsic+json": {
              "type": "string"
            },
            "text/plain": [
              "\"it's my first class. it's my first class.it's my first class.it's my first class.it's my first class.\\nit's my first class.it's my first class.it's my first class.\\nit's my first class. it's my first class. it's my first class.\\nit's my first class.\""
            ]
          },
          "metadata": {
            "tags": []
          },
          "execution_count": 3
        }
      ]
    },
    {
      "cell_type": "markdown",
      "metadata": {
        "id": "_0ucRbERwar1"
      },
      "source": [
        "Print function"
      ]
    },
    {
      "cell_type": "code",
      "metadata": {
        "colab": {
          "base_uri": "https://localhost:8080/"
        },
        "id": "iTs2-kAZwZcG",
        "outputId": "654a160a-0b33-42a3-97c2-2ac37a6a89b8"
      },
      "source": [
        "print(\"Hello Ryan\") #Everthing between the \" \" is called as String.\n",
        "print(100)"
      ],
      "execution_count": 7,
      "outputs": [
        {
          "output_type": "stream",
          "text": [
            "Hello Ryan\n",
            "100\n"
          ],
          "name": "stdout"
        }
      ]
    },
    {
      "cell_type": "code",
      "metadata": {
        "colab": {
          "base_uri": "https://localhost:8080/"
        },
        "id": "3f7RZtByxJTd",
        "outputId": "2f48e6ba-bf17-44c1-a4f8-9dcc29efd47d"
      },
      "source": [
        "#type() \n",
        "print(type(100))\n",
        "print(type(\"Hello Ryan\"))\n",
        "print(type(\"100\")) #str : String and int : Integer"
      ],
      "execution_count": 10,
      "outputs": [
        {
          "output_type": "stream",
          "text": [
            "<class 'int'>\n",
            "<class 'str'>\n",
            "<class 'str'>\n"
          ],
          "name": "stdout"
        }
      ]
    },
    {
      "cell_type": "markdown",
      "metadata": {
        "id": "7Dh-zLJkyZ8d"
      },
      "source": [
        "#DATATYPES:\n",
        "1. String\n",
        "2. Numbers (integers, float)\n",
        "3. List\n",
        "4. Tuple\n",
        "5. Dictionary\n",
        "6. Boolean (True or False)"
      ]
    },
    {
      "cell_type": "code",
      "metadata": {
        "colab": {
          "base_uri": "https://localhost:8080/"
        },
        "id": "RI7eNC6X1RJv",
        "outputId": "588365e9-7564-486e-dd78-ed76aaad2f84"
      },
      "source": [
        "print(1+1)\n",
        "print(\"1\"+\"2\") # + will concatenate two strings: means it will put one string after another.\n",
        "print(\"Hello\"+\" How are you ?\")"
      ],
      "execution_count": 13,
      "outputs": [
        {
          "output_type": "stream",
          "text": [
            "2\n",
            "12\n",
            "Hello How are you ?\n"
          ],
          "name": "stdout"
        }
      ]
    },
    {
      "cell_type": "code",
      "metadata": {
        "colab": {
          "base_uri": "https://localhost:8080/"
        },
        "id": "jwJGBLy627_x",
        "outputId": "ab3f3446-744a-47be-9ffc-05473cccd55b"
      },
      "source": [
        "print(5.678)\n",
        "print(type(5.678))\n",
        "print(type(5.0000000))"
      ],
      "execution_count": 17,
      "outputs": [
        {
          "output_type": "stream",
          "text": [
            "5.678\n",
            "<class 'float'>\n",
            "<class 'float'>\n"
          ],
          "name": "stdout"
        }
      ]
    },
    {
      "cell_type": "markdown",
      "metadata": {
        "id": "8MJuHE0d3m4_"
      },
      "source": [
        "#Variables"
      ]
    },
    {
      "cell_type": "code",
      "metadata": {
        "colab": {
          "base_uri": "https://localhost:8080/"
        },
        "id": "24D0U5FX3rM6",
        "outputId": "9e89192f-e3c6-45b3-e39a-321c529d4b65"
      },
      "source": [
        "#variables are used to store some values in python.\n",
        "name = \"Shaniya\"\n",
        "print(name)\n",
        "age = 1\n",
        "print(age)"
      ],
      "execution_count": 22,
      "outputs": [
        {
          "output_type": "stream",
          "text": [
            "Shaniya\n",
            "1\n"
          ],
          "name": "stdout"
        }
      ]
    }
  ]
}