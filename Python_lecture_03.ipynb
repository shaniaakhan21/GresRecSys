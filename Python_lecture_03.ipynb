{
  "nbformat": 4,
  "nbformat_minor": 0,
  "metadata": {
    "colab": {
      "name": "Python_lecture_03.ipynb",
      "provenance": [],
      "authorship_tag": "ABX9TyOoRiRUMduCcPnd3WvmbAWp",
      "include_colab_link": true
    },
    "kernelspec": {
      "name": "python3",
      "display_name": "Python 3"
    },
    "language_info": {
      "name": "python"
    }
  },
  "cells": [
    {
      "cell_type": "markdown",
      "metadata": {
        "id": "view-in-github",
        "colab_type": "text"
      },
      "source": [
        "<a href=\"https://colab.research.google.com/github/shaniaakhan21/GresRecSys/blob/main/Python_lecture_03.ipynb\" target=\"_parent\"><img src=\"https://colab.research.google.com/assets/colab-badge.svg\" alt=\"Open In Colab\"/></a>"
      ]
    },
    {
      "cell_type": "markdown",
      "metadata": {
        "id": "qM6eWHPh2vR0"
      },
      "source": [
        "# List"
      ]
    },
    {
      "cell_type": "markdown",
      "metadata": {
        "id": "l8WOf5xM23yk"
      },
      "source": [
        "List is a datatype in python which can contains more than one items.\n",
        "house = [\"big_house\",\"seaside house\"]"
      ]
    },
    {
      "cell_type": "code",
      "metadata": {
        "colab": {
          "base_uri": "https://localhost:8080/"
        },
        "id": "JKiZOf7r2m3G",
        "outputId": "0c6d962f-a50a-4258-f30c-fb978e0132f0"
      },
      "source": [
        "its_a_list = [] #empty list\n",
        "int_list = [1,2,3] #just integer items in list\n",
        "mixed_list = [1,\"Pizza\", 3.002 ,True] #integer, string, float, boolean items exists in list - MIXED LIST\n",
        "print(int_list +mixed_list)   #Adding two lists.\n"
      ],
      "execution_count": null,
      "outputs": [
        {
          "output_type": "stream",
          "text": [
            "[1, 2, 3, 1, 'Pizza', 3.002, True]\n"
          ],
          "name": "stdout"
        }
      ]
    },
    {
      "cell_type": "markdown",
      "metadata": {
        "id": "qXESXcy69eEB"
      },
      "source": [
        "Nested List"
      ]
    },
    {
      "cell_type": "code",
      "metadata": {
        "colab": {
          "base_uri": "https://localhost:8080/"
        },
        "id": "Yc7I_6cw9_gs",
        "outputId": "c8c16a2f-01ff-4aa9-9925-902e399ca7bc"
      },
      "source": [
        "#List inside a list. \n",
        "nested_list = [\"apple\", [1,2,3], [\"abc\"]]\n",
        "print(nested_list)"
      ],
      "execution_count": null,
      "outputs": [
        {
          "output_type": "stream",
          "text": [
            "['apple', [1, 2, 3], ['abc']]\n"
          ],
          "name": "stdout"
        }
      ]
    },
    {
      "cell_type": "markdown",
      "metadata": {
        "id": "U2Eofjc7-hW5"
      },
      "source": [
        "ACCESSING ITEMS OF THE LIST : LIST INDEX"
      ]
    },
    {
      "cell_type": "markdown",
      "metadata": {
        "id": "tuYJATLQ-nI0"
      },
      "source": [
        "INDEXING : Index number of the item starts with 0."
      ]
    },
    {
      "cell_type": "code",
      "metadata": {
        "colab": {
          "base_uri": "https://localhost:8080/"
        },
        "id": "qgaOmQL0_BsZ",
        "outputId": "8a82dbb5-c2e6-4744-8f8d-69dfc0ee3e29"
      },
      "source": [
        "new_list = [\"dubai\",\"sharjah\",\"ajman\"]\n",
        "print(new_list[2])"
      ],
      "execution_count": null,
      "outputs": [
        {
          "output_type": "stream",
          "text": [
            "ajman\n"
          ],
          "name": "stdout"
        }
      ]
    },
    {
      "cell_type": "code",
      "metadata": {
        "colab": {
          "base_uri": "https://localhost:8080/"
        },
        "id": "ZhjoDb4K_Ycz",
        "outputId": "34e5ba17-370a-4c35-ded9-474faf56d550"
      },
      "source": [
        "print(nested_list[1][1])"
      ],
      "execution_count": null,
      "outputs": [
        {
          "output_type": "stream",
          "text": [
            "2\n"
          ],
          "name": "stdout"
        }
      ]
    },
    {
      "cell_type": "code",
      "metadata": {
        "colab": {
          "base_uri": "https://localhost:8080/"
        },
        "id": "rWIEahhZ_ti_",
        "outputId": "8302fa86-4f98-48ed-f5a6-4d88b8ac1c6b"
      },
      "source": [
        "print(nested_list[:])"
      ],
      "execution_count": null,
      "outputs": [
        {
          "output_type": "stream",
          "text": [
            "['apple', [1, 2, 3], ['abc']]\n"
          ],
          "name": "stdout"
        }
      ]
    },
    {
      "cell_type": "markdown",
      "metadata": {
        "id": "veC8tNPsABnC"
      },
      "source": [
        "**NEGATIVE INDEXING**: It starts from last item of the list , which will have the index as -1."
      ]
    },
    {
      "cell_type": "code",
      "metadata": {
        "colab": {
          "base_uri": "https://localhost:8080/"
        },
        "id": "rY0mir30AP7I",
        "outputId": "b6e90b49-8f2f-449e-8b9b-bcfdfae0d571"
      },
      "source": [
        "print(new_list[-2])"
      ],
      "execution_count": null,
      "outputs": [
        {
          "output_type": "stream",
          "text": [
            "sharjah\n"
          ],
          "name": "stdout"
        }
      ]
    },
    {
      "cell_type": "markdown",
      "metadata": {
        "id": "NcFJ1WlEAq7y"
      },
      "source": [
        "#Slicing of the List"
      ]
    },
    {
      "cell_type": "code",
      "metadata": {
        "colab": {
          "base_uri": "https://localhost:8080/"
        },
        "id": "4bmOU7ByAwVz",
        "outputId": "53768716-70bf-453f-c1c0-6a2e7f51a9f9"
      },
      "source": [
        "#\"0:5\"\n",
        "long_list = [\"apple\",\"banana\",\"cherry\",\"gauvava\",\"mango\",\"avacado\",\"pomegranate\",\"strawberry\",\"blue berry\",\"orange\"]\n",
        "print(long_list[:5])"
      ],
      "execution_count": null,
      "outputs": [
        {
          "output_type": "stream",
          "text": [
            "['apple', 'banana', 'cherry', 'gauvava', 'mango']\n"
          ],
          "name": "stdout"
        }
      ]
    },
    {
      "cell_type": "code",
      "metadata": {
        "colab": {
          "base_uri": "https://localhost:8080/"
        },
        "id": "0OY0MZ_1Bs3K",
        "outputId": "b36e7560-756d-410c-fe2a-b531db86ff66"
      },
      "source": [
        "print(long_list[:-5])\n",
        "print(long_list[-7:-3])"
      ],
      "execution_count": null,
      "outputs": [
        {
          "output_type": "stream",
          "text": [
            "['apple', 'banana', 'cherry', 'gauvava', 'mango']\n",
            "['gauvava', 'mango', 'avacado', 'pomegranate']\n"
          ],
          "name": "stdout"
        }
      ]
    },
    {
      "cell_type": "markdown",
      "metadata": {
        "id": "G5CvPcFwDYSO"
      },
      "source": [
        "Add or change the Elements."
      ]
    },
    {
      "cell_type": "code",
      "metadata": {
        "colab": {
          "base_uri": "https://localhost:8080/"
        },
        "id": "DtR0j7P6EFVk",
        "outputId": "b37ea6a6-2f25-4786-f174-f355150d4398"
      },
      "source": [
        "long_list[0] = \"grapes\"\n",
        "print(long_list)"
      ],
      "execution_count": null,
      "outputs": [
        {
          "output_type": "stream",
          "text": [
            "['grapes', 'banana', 'cherry', 'gauvava', 'mango', 'avacado', 'pomegranate', 'strawberry', 'blue berry', 'orange']\n"
          ],
          "name": "stdout"
        }
      ]
    },
    {
      "cell_type": "code",
      "metadata": {
        "colab": {
          "base_uri": "https://localhost:8080/"
        },
        "id": "Cf1vOPZ5E7HZ",
        "outputId": "18824c3b-d0bf-411a-a2a6-f4f1ad65c61e"
      },
      "source": [
        "#To items to list we use append()\n",
        "long_list.append(7)\n",
        "print(long_list)"
      ],
      "execution_count": null,
      "outputs": [
        {
          "output_type": "stream",
          "text": [
            "['grapes', 'banana', 'cherry', 'gauvava', 'mango', 'avacado', 'pomegranate', 'strawberry', 'blue berry', 'orange', 7, 7]\n"
          ],
          "name": "stdout"
        }
      ]
    },
    {
      "cell_type": "markdown",
      "metadata": {
        "id": "qEJcR--0Gbcb"
      },
      "source": [
        "INSERT items to list by specifying index "
      ]
    },
    {
      "cell_type": "code",
      "metadata": {
        "id": "97566Q-AGuKT"
      },
      "source": [
        "#insert(\"index of item that will be added\",\"value of item\")\n",
        "long_list.insert(1,\"car\")"
      ],
      "execution_count": null,
      "outputs": []
    },
    {
      "cell_type": "code",
      "metadata": {
        "colab": {
          "base_uri": "https://localhost:8080/"
        },
        "id": "1M0Qx84QHMw_",
        "outputId": "59b93ef4-ef82-455a-c7a9-055f27a610a2"
      },
      "source": [
        "print(long_list)"
      ],
      "execution_count": null,
      "outputs": [
        {
          "output_type": "stream",
          "text": [
            "['grapes', 'car', 'banana', 'cherry', 'gauvava', 'mango', 'avacado', 'pomegranate', 'strawberry', 'blue berry', 'orange', 7, 7]\n"
          ],
          "name": "stdout"
        }
      ]
    },
    {
      "cell_type": "code",
      "metadata": {
        "colab": {
          "base_uri": "https://localhost:8080/"
        },
        "id": "f7Bpp5RxHZ7I",
        "outputId": "953ef659-69d8-44e4-ef02-8f5d8e5fce5f"
      },
      "source": [
        "long_list[2:2] = [4,5]\n",
        "print(long_list)       #Method to add more than one items at some specific position in List."
      ],
      "execution_count": null,
      "outputs": [
        {
          "output_type": "stream",
          "text": [
            "['grapes', 'car', 4, 5, 'banana', 'cherry', 'gauvava', 'mango', 'avacado', 'pomegranate', 'strawberry', 'blue berry', 'orange', 7, 7]\n"
          ],
          "name": "stdout"
        }
      ]
    },
    {
      "cell_type": "markdown",
      "metadata": {
        "id": "WzkTcVgJH76c"
      },
      "source": [
        "DELETE or REMOVE Items from list"
      ]
    },
    {
      "cell_type": "code",
      "metadata": {
        "colab": {
          "base_uri": "https://localhost:8080/"
        },
        "id": "S3RPl469INXq",
        "outputId": "a41f6058-d839-4d3b-e437-2dff7b8ce53f"
      },
      "source": [
        "#del to delete elements of list\n",
        "del long_list[-1]\n",
        "print(long_list)"
      ],
      "execution_count": null,
      "outputs": [
        {
          "output_type": "stream",
          "text": [
            "['grapes', 'car', 4, 5, 'banana', 'cherry', 'gauvava', 'mango', 'avacado', 'pomegranate', 'strawberry', 'blue berry', 'orange']\n"
          ],
          "name": "stdout"
        }
      ]
    },
    {
      "cell_type": "code",
      "metadata": {
        "colab": {
          "base_uri": "https://localhost:8080/"
        },
        "id": "gGXaBH50IzRg",
        "outputId": "f1a400a6-09d6-4133-b6be-37d6f46c2469"
      },
      "source": [
        "#remove()\n",
        "long_list.remove(\"car\")\n",
        "print(long_list)"
      ],
      "execution_count": null,
      "outputs": [
        {
          "output_type": "stream",
          "text": [
            "['grapes', 4, 5, 'banana', 'cherry', 'gauvava', 'mango', 'avacado', 'pomegranate', 'strawberry', 'blue berry', 'orange']\n"
          ],
          "name": "stdout"
        }
      ]
    },
    {
      "cell_type": "code",
      "metadata": {
        "colab": {
          "base_uri": "https://localhost:8080/"
        },
        "id": "8pSg_feUJOk6",
        "outputId": "2735b556-a0f9-40bf-c8a7-00edbe22cfcd"
      },
      "source": [
        "print(long_list.pop())"
      ],
      "execution_count": null,
      "outputs": [
        {
          "output_type": "stream",
          "text": [
            "orange\n"
          ],
          "name": "stdout"
        }
      ]
    },
    {
      "cell_type": "code",
      "metadata": {
        "colab": {
          "base_uri": "https://localhost:8080/"
        },
        "id": "NHbGQigLJaBi",
        "outputId": "0da3c961-5c03-40d4-e3ef-dc59fd2956ce"
      },
      "source": [
        "print(long_list)"
      ],
      "execution_count": null,
      "outputs": [
        {
          "output_type": "stream",
          "text": [
            "['grapes', 4, 5, 'banana', 'cherry', 'gauvava', 'mango', 'avacado', 'pomegranate', 'strawberry', 'blue berry']\n"
          ],
          "name": "stdout"
        }
      ]
    },
    {
      "cell_type": "code",
      "metadata": {
        "colab": {
          "base_uri": "https://localhost:8080/"
        },
        "id": "jMZLaTirJggG",
        "outputId": "9e480956-064d-4729-9382-d99c14b9d467"
      },
      "source": [
        "print(long_list.pop(-2))"
      ],
      "execution_count": null,
      "outputs": [
        {
          "output_type": "stream",
          "text": [
            "strawberry\n"
          ],
          "name": "stdout"
        }
      ]
    },
    {
      "cell_type": "code",
      "metadata": {
        "colab": {
          "base_uri": "https://localhost:8080/"
        },
        "id": "TN2vXSi6JpZ1",
        "outputId": "cb51eea4-f88a-484b-ff67-c6a6a8f79f3e"
      },
      "source": [
        "print(long_list)"
      ],
      "execution_count": null,
      "outputs": [
        {
          "output_type": "stream",
          "text": [
            "['grapes', 4, 5, 'banana', 'cherry', 'gauvava', 'mango', 'avacado', 'pomegranate', 'blue berry']\n"
          ],
          "name": "stdout"
        }
      ]
    },
    {
      "cell_type": "code",
      "metadata": {
        "colab": {
          "base_uri": "https://localhost:8080/"
        },
        "id": "iSjAl41iJxCM",
        "outputId": "26c51dc2-15cb-4fbb-cd9f-79cd4ba73ff5"
      },
      "source": [
        "long_list.clear() #To make list , empty list.\n",
        "print(long_list)"
      ],
      "execution_count": null,
      "outputs": [
        {
          "output_type": "stream",
          "text": [
            "[]\n"
          ],
          "name": "stdout"
        }
      ]
    }
  ]
}