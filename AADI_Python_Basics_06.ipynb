{
  "nbformat": 4,
  "nbformat_minor": 0,
  "metadata": {
    "colab": {
      "name": "AADI_Python_Basics_06.ipynb",
      "provenance": [],
      "authorship_tag": "ABX9TyNuhfMGVr7DbPixAF3ETWGN",
      "include_colab_link": true
    },
    "kernelspec": {
      "name": "python3",
      "display_name": "Python 3"
    },
    "language_info": {
      "name": "python"
    }
  },
  "cells": [
    {
      "cell_type": "markdown",
      "metadata": {
        "id": "view-in-github",
        "colab_type": "text"
      },
      "source": [
        "<a href=\"https://colab.research.google.com/github/shaniaakhan21/GresRecSys/blob/main/AADI_Python_Basics_06.ipynb\" target=\"_parent\"><img src=\"https://colab.research.google.com/assets/colab-badge.svg\" alt=\"Open In Colab\"/></a>"
      ]
    },
    {
      "cell_type": "markdown",
      "metadata": {
        "id": "7lkP-43jAP7R"
      },
      "source": [
        "#List\n",
        "List is a datatype in python which contains more than one items.\n",
        "Syntax: name_of_list = [\"apple\",1, 2.5 , \"@\"]\n"
      ]
    },
    {
      "cell_type": "code",
      "metadata": {
        "colab": {
          "base_uri": "https://localhost:8080/"
        },
        "id": "JqzPv6V4_6Sa",
        "outputId": "f71fffdf-3962-4dfa-e87e-a8995d29f060"
      },
      "source": [
        "#empty list\n",
        "its_a_list = []\n",
        "print(its_a_list)\n",
        "\n",
        "#list contaning integers\n",
        "int_list = [1,4,22,5,6]\n",
        "print(int_list)\n",
        "\n",
        "#List containing String values\n",
        "string_list = [\"apple\",\"mango\",\"banana\",\"pears\",\"pineapple\"]\n",
        "print(string_list)\n",
        "\n",
        "#mixed list : containing integers, strings, float, boolean\n",
        "mixed_list = [\"i am a string\", 100, 2.098 , True]\n",
        "print(mixed_list)"
      ],
      "execution_count": 4,
      "outputs": [
        {
          "output_type": "stream",
          "text": [
            "[]\n",
            "[1, 4, 22, 5, 6]\n",
            "['apple', 'mango', 'banana', 'pears', 'pineapple']\n",
            "['i am a string', 100, 2.098, True]\n"
          ],
          "name": "stdout"
        }
      ]
    },
    {
      "cell_type": "markdown",
      "metadata": {
        "id": "afbWLP3gC9B8"
      },
      "source": [
        "Nested List"
      ]
    },
    {
      "cell_type": "code",
      "metadata": {
        "colab": {
          "base_uri": "https://localhost:8080/"
        },
        "id": "2zHhsvbzC_E-",
        "outputId": "92dc78a5-8fd0-445a-d08c-c1e7d486a053"
      },
      "source": [
        "#nested list : List inside List\n",
        "nested_list = [\"apple\", [1,2,3, \"abc\"], \"a\",\"c\", 2.3]\n",
        "print(nested_list)"
      ],
      "execution_count": 5,
      "outputs": [
        {
          "output_type": "stream",
          "text": [
            "['apple', [1, 2, 3, 'abc'], 'a', 'c', 2.3]\n"
          ],
          "name": "stdout"
        }
      ]
    },
    {
      "cell_type": "markdown",
      "metadata": {
        "id": "szmQ2NYlDj-M"
      },
      "source": [
        "##Accessing Items from a list\n",
        "By using index value : List Index\n",
        "Index value for a list starts with 0 "
      ]
    },
    {
      "cell_type": "markdown",
      "metadata": {
        "id": "hXY6gAzAFO4y"
      },
      "source": [
        "Positive Indexing"
      ]
    },
    {
      "cell_type": "code",
      "metadata": {
        "colab": {
          "base_uri": "https://localhost:8080/"
        },
        "id": "iDcnQwLfD9ru",
        "outputId": "e9f49abe-034f-4505-90df-b71202db7bcf"
      },
      "source": [
        "print(nested_list[1])\n",
        "print(nested_list[1][0])"
      ],
      "execution_count": 7,
      "outputs": [
        {
          "output_type": "stream",
          "text": [
            "[1, 2, 3, 'abc']\n",
            "1\n"
          ],
          "name": "stdout"
        }
      ]
    },
    {
      "cell_type": "markdown",
      "metadata": {
        "id": "i_APPPYnEpeV"
      },
      "source": [
        "Negative Indexing"
      ]
    },
    {
      "cell_type": "code",
      "metadata": {
        "colab": {
          "base_uri": "https://localhost:8080/"
        },
        "id": "we8-DtJzEs1C",
        "outputId": "84aa49be-7ed0-49d2-fbe9-c95323a36aab"
      },
      "source": [
        "#Negative indexing always starts with -1 and this -1 is the index number of last element of the list.\n",
        "print(string_list[-1])"
      ],
      "execution_count": 8,
      "outputs": [
        {
          "output_type": "stream",
          "text": [
            "pineapple\n"
          ],
          "name": "stdout"
        }
      ]
    },
    {
      "cell_type": "markdown",
      "metadata": {
        "id": "EyvJruD5FSlM"
      },
      "source": [
        "##Slicing of a list\n",
        "name_list[start_index : end_index+1]"
      ]
    },
    {
      "cell_type": "code",
      "metadata": {
        "colab": {
          "base_uri": "https://localhost:8080/"
        },
        "id": "5zCVDmLfF2B9",
        "outputId": "068ce2af-7c1c-43a6-ef3b-a1e62e8f9ef3"
      },
      "source": [
        "Vegetables = [\"onion\", \"tomato\",\"potato\",\"capsicum\",\"brinjal\",\"cauliflour\",\"raddish\",\"carrot\",\"cucumber\",\"bitter gaurd\",\"ladyfinger\"]\n",
        "print(Vegetables)"
      ],
      "execution_count": 9,
      "outputs": [
        {
          "output_type": "stream",
          "text": [
            "['onion', 'tomato', 'potato', 'capsicum', 'brinjal', 'cauliflour', 'raddish', 'carrot', 'cucumber', 'bitter gaurd', 'ladyfinger']\n"
          ],
          "name": "stdout"
        }
      ]
    },
    {
      "cell_type": "code",
      "metadata": {
        "colab": {
          "base_uri": "https://localhost:8080/"
        },
        "id": "akvrDXwLG0tg",
        "outputId": "fed78204-2a62-4724-978a-bf9997935f4b"
      },
      "source": [
        "print(Vegetables[1:8])\n",
        "print(Vegetables[-11:-5])\n",
        "print(Vegetables[:])"
      ],
      "execution_count": 12,
      "outputs": [
        {
          "output_type": "stream",
          "text": [
            "['tomato', 'potato', 'capsicum', 'brinjal', 'cauliflour', 'raddish', 'carrot']\n",
            "['onion', 'tomato', 'potato', 'capsicum', 'brinjal', 'cauliflour']\n",
            "['onion', 'tomato', 'potato', 'capsicum', 'brinjal', 'cauliflour', 'raddish', 'carrot', 'cucumber', 'bitter gaurd', 'ladyfinger']\n"
          ],
          "name": "stdout"
        }
      ]
    },
    {
      "cell_type": "markdown",
      "metadata": {
        "id": "VE5zkhsBHxzW"
      },
      "source": [
        "##Add or Change the items of a list\n"
      ]
    },
    {
      "cell_type": "code",
      "metadata": {
        "colab": {
          "base_uri": "https://localhost:8080/"
        },
        "id": "QMT5LcCnH3YW",
        "outputId": "66761457-bcc6-433b-f070-d7c8928da0ef"
      },
      "source": [
        "#append() : will add items to the end of the list.\n",
        "Vegetables.append(\"Mango\")\n",
        "print(Vegetables)"
      ],
      "execution_count": 13,
      "outputs": [
        {
          "output_type": "stream",
          "text": [
            "['onion', 'tomato', 'potato', 'capsicum', 'brinjal', 'cauliflour', 'raddish', 'carrot', 'cucumber', 'bitter gaurd', 'ladyfinger', 'Mango']\n"
          ],
          "name": "stdout"
        }
      ]
    },
    {
      "cell_type": "code",
      "metadata": {
        "colab": {
          "base_uri": "https://localhost:8080/"
        },
        "id": "d1jdSzgFIZQa",
        "outputId": "4aecde1f-d890-4f74-bc67-1f6f468cebb3"
      },
      "source": [
        "#insert(index_value_of_new_item, \"value\" ) to add elements at some specific position in the list.\n",
        "Vegetables.insert(2, 2.5)\n",
        "print(Vegetables)"
      ],
      "execution_count": 14,
      "outputs": [
        {
          "output_type": "stream",
          "text": [
            "['onion', 'tomato', 2.5, 'potato', 'capsicum', 'brinjal', 'cauliflour', 'raddish', 'carrot', 'cucumber', 'bitter gaurd', 'ladyfinger', 'Mango']\n"
          ],
          "name": "stdout"
        }
      ]
    },
    {
      "cell_type": "code",
      "metadata": {
        "colab": {
          "base_uri": "https://localhost:8080/"
        },
        "id": "zAQ5Op1NJNIR",
        "outputId": "528a8446-af0b-48d8-f4ca-1b92db1ebde9"
      },
      "source": [
        "#Method to add elements\n",
        "Vegetables[4:5] = [\"car\",\"bike\"]\n",
        "print(Vegetables)"
      ],
      "execution_count": 16,
      "outputs": [
        {
          "output_type": "stream",
          "text": [
            "['onion', 'tomato', 2.5, 'potato', 'car', 'bike', 'brinjal', 'cauliflour', 'raddish', 'carrot', 'cucumber', 'bitter gaurd', 'ladyfinger', 'Mango']\n"
          ],
          "name": "stdout"
        }
      ]
    },
    {
      "cell_type": "markdown",
      "metadata": {
        "id": "6pHlR-EcJ3gR"
      },
      "source": [
        "##Delete or remove items from list "
      ]
    },
    {
      "cell_type": "code",
      "metadata": {
        "colab": {
          "base_uri": "https://localhost:8080/"
        },
        "id": "xNwJGOy7J9lT",
        "outputId": "c119748b-cac3-456a-c0c8-fd75914e200f"
      },
      "source": [
        "#'del' : Deletes the items from a list\n",
        "del Vegetables[2]\n",
        "print(Vegetables)"
      ],
      "execution_count": 17,
      "outputs": [
        {
          "output_type": "stream",
          "text": [
            "['onion', 'tomato', 'potato', 'car', 'bike', 'brinjal', 'cauliflour', 'raddish', 'carrot', 'cucumber', 'bitter gaurd', 'ladyfinger', 'Mango']\n"
          ],
          "name": "stdout"
        }
      ]
    },
    {
      "cell_type": "code",
      "metadata": {
        "colab": {
          "base_uri": "https://localhost:8080/"
        },
        "id": "5RGyiptGKVpM",
        "outputId": "e09ca338-603f-48a5-8043-ee6ce6303fd2"
      },
      "source": [
        "#remove()\n",
        "Vegetables.remove(\"car\")\n",
        "print(Vegetables)"
      ],
      "execution_count": 18,
      "outputs": [
        {
          "output_type": "stream",
          "text": [
            "['onion', 'tomato', 'potato', 'bike', 'brinjal', 'cauliflour', 'raddish', 'carrot', 'cucumber', 'bitter gaurd', 'ladyfinger', 'Mango']\n"
          ],
          "name": "stdout"
        }
      ]
    },
    {
      "cell_type": "code",
      "metadata": {
        "colab": {
          "base_uri": "https://localhost:8080/"
        },
        "id": "CFk1QXq5Kqrx",
        "outputId": "a0b0117d-75bd-4c45-dd26-b1a64c53d842"
      },
      "source": [
        "#pop() : to remove last element from the list.\n",
        "Vegetables.pop()\n",
        "print(Vegetables)"
      ],
      "execution_count": 19,
      "outputs": [
        {
          "output_type": "stream",
          "text": [
            "['onion', 'tomato', 'potato', 'bike', 'brinjal', 'cauliflour', 'raddish', 'carrot', 'cucumber', 'bitter gaurd', 'ladyfinger']\n"
          ],
          "name": "stdout"
        }
      ]
    },
    {
      "cell_type": "code",
      "metadata": {
        "colab": {
          "base_uri": "https://localhost:8080/"
        },
        "id": "a5ylFLliLDZG",
        "outputId": "ee2831b5-3a42-4555-a88d-705b151b5c4d"
      },
      "source": [
        "Vegetables.pop(3)\n",
        "print(Vegetables)"
      ],
      "execution_count": 20,
      "outputs": [
        {
          "output_type": "stream",
          "text": [
            "['onion', 'tomato', 'potato', 'brinjal', 'cauliflour', 'raddish', 'carrot', 'cucumber', 'bitter gaurd', 'ladyfinger']\n"
          ],
          "name": "stdout"
        }
      ]
    },
    {
      "cell_type": "code",
      "metadata": {
        "colab": {
          "base_uri": "https://localhost:8080/"
        },
        "id": "fU9T9mvVLSp5",
        "outputId": "f7b987ea-a5f2-4927-f2d8-21de8e64d4ff"
      },
      "source": [
        "#clear(): will delete whole list, and will make it empty\n",
        "Vegetables.clear()\n",
        "print(Vegetables)"
      ],
      "execution_count": 21,
      "outputs": [
        {
          "output_type": "stream",
          "text": [
            "[]\n"
          ],
          "name": "stdout"
        }
      ]
    }
  ]
}