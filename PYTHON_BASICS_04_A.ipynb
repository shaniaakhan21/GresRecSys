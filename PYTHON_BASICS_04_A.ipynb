{
  "nbformat": 4,
  "nbformat_minor": 0,
  "metadata": {
    "colab": {
      "name": "PYTHON_BASICS_04_A.ipynb",
      "provenance": [],
      "authorship_tag": "ABX9TyNq24TtzGPn+e+4lUq1U5d4",
      "include_colab_link": true
    },
    "kernelspec": {
      "name": "python3",
      "display_name": "Python 3"
    },
    "language_info": {
      "name": "python"
    }
  },
  "cells": [
    {
      "cell_type": "markdown",
      "metadata": {
        "id": "view-in-github",
        "colab_type": "text"
      },
      "source": [
        "<a href=\"https://colab.research.google.com/github/shaniaakhan21/GresRecSys/blob/main/PYTHON_BASICS_04_A.ipynb\" target=\"_parent\"><img src=\"https://colab.research.google.com/assets/colab-badge.svg\" alt=\"Open In Colab\"/></a>"
      ]
    },
    {
      "cell_type": "markdown",
      "metadata": {
        "id": "0wUFGxas65Wb"
      },
      "source": [
        "#TUPLE\n",
        "Tuple is similar to list but it's syntax is different and some features are different from list."
      ]
    },
    {
      "cell_type": "code",
      "metadata": {
        "colab": {
          "base_uri": "https://localhost:8080/"
        },
        "id": "-3JSllhW62gU",
        "outputId": "0250c16f-3dae-4df2-95bf-9c8484bef549"
      },
      "source": [
        "a = () #empty tuple \n",
        "print(a)\n",
        "print(type(a))"
      ],
      "execution_count": 2,
      "outputs": [
        {
          "output_type": "stream",
          "text": [
            "()\n",
            "<class 'tuple'>\n"
          ],
          "name": "stdout"
        }
      ]
    },
    {
      "cell_type": "code",
      "metadata": {
        "colab": {
          "base_uri": "https://localhost:8080/"
        },
        "id": "RZHsEi4W7hi7",
        "outputId": "04e5c87e-c295-4192-b833-579fa1cc2d65"
      },
      "source": [
        "fruits = (\"banana\", \"mango\", \"grapes\")\n",
        "print(fruits)"
      ],
      "execution_count": 3,
      "outputs": [
        {
          "output_type": "stream",
          "text": [
            "('banana', 'mango', 'grapes')\n"
          ],
          "name": "stdout"
        }
      ]
    },
    {
      "cell_type": "code",
      "metadata": {
        "colab": {
          "base_uri": "https://localhost:8080/"
        },
        "id": "GMu8_4Sh7ufg",
        "outputId": "57dd732d-516d-4e09-8bd4-f556a259ec75"
      },
      "source": [
        "diff_dt = (1,\"a\",2.0)\n",
        "print(diff_dt)\n",
        "print(type(diff_dt[2]))"
      ],
      "execution_count": 10,
      "outputs": [
        {
          "output_type": "stream",
          "text": [
            "(1, 'a', 2.0)\n",
            "<class 'float'>\n"
          ],
          "name": "stdout"
        }
      ]
    },
    {
      "cell_type": "markdown",
      "metadata": {
        "id": "dAlfWzvL8TQp"
      },
      "source": [
        "#ACCESSING A TUPLE\n",
        "We can do it by using index values"
      ]
    },
    {
      "cell_type": "code",
      "metadata": {
        "colab": {
          "base_uri": "https://localhost:8080/"
        },
        "id": "mlJaDFoy8Nv7",
        "outputId": "12d6a565-6448-461f-fd6e-f46f9265653e"
      },
      "source": [
        "print(diff_dt[2])"
      ],
      "execution_count": 11,
      "outputs": [
        {
          "output_type": "stream",
          "text": [
            "2.0\n"
          ],
          "name": "stdout"
        }
      ]
    },
    {
      "cell_type": "markdown",
      "metadata": {
        "id": "_Xz7elNf8mpL"
      },
      "source": [
        "#Concatenation Of Tuples"
      ]
    },
    {
      "cell_type": "code",
      "metadata": {
        "colab": {
          "base_uri": "https://localhost:8080/"
        },
        "id": "VxkQuksm8mAN",
        "outputId": "34dd8078-e435-4040-fe8f-f1b18f2085ad"
      },
      "source": [
        "int_tuple = (1,2,3,4)\n",
        "str_tuple = (\"a\",\"b\",\"c\")\n",
        "print(int_tuple + str_tuple)\n",
        "third_tuple = int_tuple + str_tuple\n",
        "print(third_tuple)"
      ],
      "execution_count": 15,
      "outputs": [
        {
          "output_type": "stream",
          "text": [
            "(1, 2, 3, 4, 'a', 'b', 'c')\n",
            "(1, 2, 3, 4, 'a', 'b', 'c')\n"
          ],
          "name": "stdout"
        }
      ]
    },
    {
      "cell_type": "markdown",
      "metadata": {
        "id": "PTiFWe6L9YGt"
      },
      "source": [
        "#Slicing of Tuples\n"
      ]
    },
    {
      "cell_type": "code",
      "metadata": {
        "colab": {
          "base_uri": "https://localhost:8080/"
        },
        "id": "4-aA2wVT9hYm",
        "outputId": "559ddb5b-78a2-4c3f-c684-17045005d08d"
      },
      "source": [
        "Country = tuple('AUSTRALIA')\n",
        "print(Country)\n",
        "print(Country[1:7]) #POSITIVE\n",
        "print(Country[-6:-2]) #NEGATIVE \n",
        "print(Country[::-1]) #REVERSE\n"
      ],
      "execution_count": 25,
      "outputs": [
        {
          "output_type": "stream",
          "text": [
            "('A', 'U', 'S', 'T', 'R', 'A', 'L', 'I', 'A')\n",
            "('U', 'S', 'T', 'R', 'A', 'L')\n",
            "('T', 'R', 'A', 'L')\n",
            "('A', 'I', 'L', 'A', 'R', 'T', 'S', 'U', 'A')\n"
          ],
          "name": "stdout"
        }
      ]
    },
    {
      "cell_type": "markdown",
      "metadata": {
        "id": "VOxmNBGa-vvw"
      },
      "source": [
        "#DELETING A TUPLE"
      ]
    },
    {
      "cell_type": "code",
      "metadata": {
        "id": "8QUhtMjV-1DH"
      },
      "source": [
        "##del keyword \n",
        "#del Country\n",
        "#print(Country)"
      ],
      "execution_count": 24,
      "outputs": []
    },
    {
      "cell_type": "code",
      "metadata": {
        "colab": {
          "base_uri": "https://localhost:8080/"
        },
        "id": "3nG5qfT8_M2b",
        "outputId": "21715268-6c15-4141-a079-3625a3d22747"
      },
      "source": [
        "#Built-in Functions\n",
        "'''index()'''\n",
        "print(Country)\n",
        "#tuple.index(element, start, end)\n",
        "print(Country.index(\"A\",1,6))\n",
        "#Count()\n",
        "print(Country.count(\"A\"))"
      ],
      "execution_count": 30,
      "outputs": [
        {
          "output_type": "stream",
          "text": [
            "('A', 'U', 'S', 'T', 'R', 'A', 'L', 'I', 'A')\n",
            "5\n",
            "3\n"
          ],
          "name": "stdout"
        }
      ]
    },
    {
      "cell_type": "markdown",
      "metadata": {
        "id": "z7OWgNu9BtJu"
      },
      "source": [
        "Tuples cannot be appended, change, remove some of the elements from tuple.\n",
        "WE can delete whole tuple. "
      ]
    }
  ]
}