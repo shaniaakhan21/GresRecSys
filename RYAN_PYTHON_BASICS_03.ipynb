{
  "nbformat": 4,
  "nbformat_minor": 0,
  "metadata": {
    "colab": {
      "name": "RYAN_PYTHON_BASICS_03.ipynb",
      "provenance": [],
      "include_colab_link": true
    },
    "kernelspec": {
      "name": "python3",
      "display_name": "Python 3"
    },
    "language_info": {
      "name": "python"
    }
  },
  "cells": [
    {
      "cell_type": "markdown",
      "metadata": {
        "id": "view-in-github",
        "colab_type": "text"
      },
      "source": [
        "<a href=\"https://colab.research.google.com/github/shaniaakhan21/GresRecSys/blob/main/RYAN_PYTHON_BASICS_03.ipynb\" target=\"_parent\"><img src=\"https://colab.research.google.com/assets/colab-badge.svg\" alt=\"Open In Colab\"/></a>"
      ]
    },
    {
      "cell_type": "code",
      "metadata": {
        "colab": {
          "base_uri": "https://localhost:8080/"
        },
        "id": "5RH1uLgrVldw",
        "outputId": "d01f619e-9700-4272-a204-1f85b5ef3600"
      },
      "source": [
        "#\"-=\" : Subtraction of value. x = x - 10 or x -= 10\n",
        "x = 20\n",
        "x -= 10\n",
        "print(x)"
      ],
      "execution_count": null,
      "outputs": [
        {
          "output_type": "stream",
          "text": [
            "10\n"
          ],
          "name": "stdout"
        }
      ]
    },
    {
      "cell_type": "code",
      "metadata": {
        "colab": {
          "base_uri": "https://localhost:8080/"
        },
        "id": "SzCyn3FXWiUL",
        "outputId": "7f6c862d-6b57-4a95-ac2e-b72511406308"
      },
      "source": [
        "#\"*=\" : Multiplication of the values, x = x * 10 or x *= 10\n",
        "x *= 2\n",
        "print(x)"
      ],
      "execution_count": null,
      "outputs": [
        {
          "output_type": "stream",
          "text": [
            "20\n"
          ],
          "name": "stdout"
        }
      ]
    },
    {
      "cell_type": "code",
      "metadata": {
        "colab": {
          "base_uri": "https://localhost:8080/"
        },
        "id": "QAYPJiWNXJcb",
        "outputId": "2784b317-8743-4e16-c996-e7b54bab492e"
      },
      "source": [
        "#\"/=\" : Division of values , x = x/2 or x /= 2\n",
        "x /= 2\n",
        "print(x)"
      ],
      "execution_count": null,
      "outputs": [
        {
          "output_type": "stream",
          "text": [
            "10.0\n"
          ],
          "name": "stdout"
        }
      ]
    },
    {
      "cell_type": "code",
      "metadata": {
        "colab": {
          "base_uri": "https://localhost:8080/"
        },
        "id": "WeO29DQ8Xdo2",
        "outputId": "50bc4489-ffe9-444d-a1bc-6dc52a209f54"
      },
      "source": [
        "#\"**\" : Multiplies the number by given number of times.\n",
        "x = 2\n",
        "print(x**2)"
      ],
      "execution_count": null,
      "outputs": [
        {
          "output_type": "stream",
          "text": [
            "4\n"
          ],
          "name": "stdout"
        }
      ]
    },
    {
      "cell_type": "code",
      "metadata": {
        "colab": {
          "base_uri": "https://localhost:8080/"
        },
        "id": "_Vn7-xZ0ZIIS",
        "outputId": "396c2ffe-341b-4bfc-d096-a3844964b588"
      },
      "source": [
        "#\"**=\" : x = x ** 2 or x **= 2 \n",
        "x **= 3\n",
        "print(x)"
      ],
      "execution_count": null,
      "outputs": [
        {
          "output_type": "stream",
          "text": [
            "8\n"
          ],
          "name": "stdout"
        }
      ]
    },
    {
      "cell_type": "markdown",
      "metadata": {
        "id": "JikkNMjdZjzj"
      },
      "source": [
        "#Comparison Operators:"
      ]
    },
    {
      "cell_type": "code",
      "metadata": {
        "colab": {
          "base_uri": "https://localhost:8080/"
        },
        "id": "k7ARUaIAZp7k",
        "outputId": "bc8d7b22-0827-467a-852b-ac510db8ccf9"
      },
      "source": [
        "#\"==\" : Comparing two values\n",
        "a = 20\n",
        "b = 20 \n",
        "print(a == b) "
      ],
      "execution_count": null,
      "outputs": [
        {
          "output_type": "stream",
          "text": [
            "True\n"
          ],
          "name": "stdout"
        }
      ]
    },
    {
      "cell_type": "code",
      "metadata": {
        "colab": {
          "base_uri": "https://localhost:8080/"
        },
        "id": "HbS9nFzYaR_M",
        "outputId": "f0a98dd3-0a1d-4c4a-c9b6-e0a66279f218"
      },
      "source": [
        "#\"!=\" : not equal to operator, comparing the values\n",
        "print(a != b)"
      ],
      "execution_count": null,
      "outputs": [
        {
          "output_type": "stream",
          "text": [
            "True\n"
          ],
          "name": "stdout"
        }
      ]
    },
    {
      "cell_type": "code",
      "metadata": {
        "colab": {
          "base_uri": "https://localhost:8080/"
        },
        "id": "-3kUOu8Ya6To",
        "outputId": "12a0e99e-c513-442f-c2dd-c4f217fe8906"
      },
      "source": [
        "#\">\" or \"<\" : Comparing some values.\n",
        "print(a > b)\n",
        "print(a < b)"
      ],
      "execution_count": null,
      "outputs": [
        {
          "output_type": "stream",
          "text": [
            "False\n",
            "True\n"
          ],
          "name": "stdout"
        }
      ]
    },
    {
      "cell_type": "code",
      "metadata": {
        "colab": {
          "base_uri": "https://localhost:8080/"
        },
        "id": "7Q5R7X9fbatT",
        "outputId": "7d3416cd-18b0-4f98-e8c6-edad86252c7d"
      },
      "source": [
        "#\">=\" , either value is greater or equal to.\n",
        "print(a >= b)\n",
        "\n",
        "#\"<=\", \n",
        "print(a <= b)"
      ],
      "execution_count": null,
      "outputs": [
        {
          "output_type": "stream",
          "text": [
            "True\n",
            "True\n"
          ],
          "name": "stdout"
        }
      ]
    },
    {
      "cell_type": "markdown",
      "metadata": {
        "id": "87oUNJAicV5Z"
      },
      "source": [
        "#Logical Operators"
      ]
    },
    {
      "cell_type": "code",
      "metadata": {
        "colab": {
          "base_uri": "https://localhost:8080/"
        },
        "id": "gQtWEdWYcYos",
        "outputId": "9ec2e785-54d6-45ec-b73c-55c9b7e4a85e"
      },
      "source": [
        "#\"and\", If both the values are true then only it will return true.\n",
        "r = 50\n",
        "s = 60\n",
        "print(r<s and s>50)"
      ],
      "execution_count": null,
      "outputs": [
        {
          "output_type": "stream",
          "text": [
            "True\n"
          ],
          "name": "stdout"
        }
      ]
    },
    {
      "cell_type": "code",
      "metadata": {
        "colab": {
          "base_uri": "https://localhost:8080/"
        },
        "id": "8xVDMG-lddDA",
        "outputId": "f9235a4d-bd98-4066-d910-857ae4f3d42a"
      },
      "source": [
        "#\"or\" , If atleast one statement is true then it will return True value.\n",
        "print(r>s or s>50)"
      ],
      "execution_count": null,
      "outputs": [
        {
          "output_type": "stream",
          "text": [
            "True\n"
          ],
          "name": "stdout"
        }
      ]
    },
    {
      "cell_type": "code",
      "metadata": {
        "colab": {
          "base_uri": "https://localhost:8080/"
        },
        "id": "QnibFK1ieLe_",
        "outputId": "44d981a6-f27b-42e7-d131-430c2ef1dd33"
      },
      "source": [
        "#\"not\" , reverses the boolean value\n",
        "print(not r>s)\n",
        "print(not (r>s or s>50))"
      ],
      "execution_count": null,
      "outputs": [
        {
          "output_type": "stream",
          "text": [
            "True\n",
            "False\n"
          ],
          "name": "stdout"
        }
      ]
    },
    {
      "cell_type": "markdown",
      "metadata": {
        "id": "Aq6nfM50e1Ge"
      },
      "source": [
        "#Identity Operators"
      ]
    },
    {
      "cell_type": "code",
      "metadata": {
        "colab": {
          "base_uri": "https://localhost:8080/"
        },
        "id": "cCBY5dMJe6aQ",
        "outputId": "b89a240e-a670-4125-8920-e4ab72ab43e0"
      },
      "source": [
        "#\"is\"\n",
        "c = 10\n",
        "d = 10\n",
        "print(c is d)"
      ],
      "execution_count": null,
      "outputs": [
        {
          "output_type": "stream",
          "text": [
            "True\n"
          ],
          "name": "stdout"
        }
      ]
    },
    {
      "cell_type": "code",
      "metadata": {
        "colab": {
          "base_uri": "https://localhost:8080/"
        },
        "id": "GLI8JWaxfbiG",
        "outputId": "b4d15fdb-4efb-4221-8ae2-3a05e36d1351"
      },
      "source": [
        "#\"is not\"\n",
        "print(c is not d)"
      ],
      "execution_count": null,
      "outputs": [
        {
          "output_type": "stream",
          "text": [
            "False\n"
          ],
          "name": "stdout"
        }
      ]
    },
    {
      "cell_type": "markdown",
      "metadata": {
        "id": "gbZ0sx1If1xY"
      },
      "source": [
        "#Membership Operators\n"
      ]
    },
    {
      "cell_type": "code",
      "metadata": {
        "colab": {
          "base_uri": "https://localhost:8080/"
        },
        "id": "Q8SSW6aWf9FA",
        "outputId": "7b7ac07d-02b5-45b9-d86d-70f7b11a343b"
      },
      "source": [
        "#\"in\", to check if the value exists within something.\n",
        "name = \"SHANIYA KHAN\"\n",
        "print('S' in name)"
      ],
      "execution_count": null,
      "outputs": [
        {
          "output_type": "stream",
          "text": [
            "True\n"
          ],
          "name": "stdout"
        }
      ]
    },
    {
      "cell_type": "code",
      "metadata": {
        "colab": {
          "base_uri": "https://localhost:8080/"
        },
        "id": "R42NIGosgllY",
        "outputId": "dc8aa714-e50f-4120-8cef-71a09a31dfa1"
      },
      "source": [
        "#\"not in\"\n",
        "print('z' not in name)"
      ],
      "execution_count": null,
      "outputs": [
        {
          "output_type": "stream",
          "text": [
            "True\n"
          ],
          "name": "stdout"
        }
      ]
    }
  ]
}