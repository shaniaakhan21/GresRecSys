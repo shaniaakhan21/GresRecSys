{
  "nbformat": 4,
  "nbformat_minor": 0,
  "metadata": {
    "colab": {
      "name": "Ryan_Python_Basics_05.ipynb",
      "provenance": [],
      "authorship_tag": "ABX9TyNL+4e/pl0aDlqIcsbzshlp",
      "include_colab_link": true
    },
    "kernelspec": {
      "name": "python3",
      "display_name": "Python 3"
    },
    "language_info": {
      "name": "python"
    }
  },
  "cells": [
    {
      "cell_type": "markdown",
      "metadata": {
        "id": "view-in-github",
        "colab_type": "text"
      },
      "source": [
        "<a href=\"https://colab.research.google.com/github/shaniaakhan21/GresRecSys/blob/main/Ryan_Python_Basics_05.ipynb\" target=\"_parent\"><img src=\"https://colab.research.google.com/assets/colab-badge.svg\" alt=\"Open In Colab\"/></a>"
      ]
    },
    {
      "cell_type": "markdown",
      "metadata": {
        "id": "_xnulld3OuEg"
      },
      "source": [
        "#**Tuple**\n",
        "Tuple is similar to list but it's syntax is different and some of it's features are different.\n",
        "\n",
        "*   Tuple cannot be changed ( add items to a tuple).\n",
        "*   Tuple's elements cannot be deleted.\n",
        "*   All the elements of tuple are deleted at once.(will make tuple empty).\n",
        "\n",
        "**SYNTAX** : name_tuple = (\"value\",\"items\",1,True, 0.2)\n",
        "\n",
        "\n"
      ]
    },
    {
      "cell_type": "code",
      "metadata": {
        "colab": {
          "base_uri": "https://localhost:8080/"
        },
        "id": "rIvI75LxPt75",
        "outputId": "89d040aa-8a2e-42ed-cedf-00fb7426feb8"
      },
      "source": [
        "integers = (1,2,3,44,55,66,77,123)\n",
        "print(integers)\n",
        "print(type(integers[1]))"
      ],
      "execution_count": 1,
      "outputs": [
        {
          "output_type": "stream",
          "text": [
            "(1, 2, 3, 44, 55, 66, 77, 123)\n",
            "<class 'int'>\n"
          ],
          "name": "stdout"
        }
      ]
    },
    {
      "cell_type": "code",
      "metadata": {
        "colab": {
          "base_uri": "https://localhost:8080/"
        },
        "id": "aJqgnbUVZZxA",
        "outputId": "24cdc31a-46e8-4062-c5d2-26ddeb1ab725"
      },
      "source": [
        "String_tuple = (\"bike\",\"car\", \"train\", \"22\", \"10.32\", \"aeroplane\")\n",
        "print(String_tuple)\n",
        "\n",
        "Mixed_tuple = (\"string\", 20, 20.36, False)\n",
        "print(Mixed_tuple)\n",
        "print(type(Mixed_tuple[2]))\n",
        "print(type(Mixed_tuple[3]))"
      ],
      "execution_count": 4,
      "outputs": [
        {
          "output_type": "stream",
          "text": [
            "('bike', 'car', 'train', '22', '10.32', 'aeroplane')\n",
            "('string', 20, 20.36, False)\n",
            "<class 'float'>\n",
            "<class 'bool'>\n"
          ],
          "name": "stdout"
        }
      ]
    },
    {
      "cell_type": "code",
      "metadata": {
        "colab": {
          "base_uri": "https://localhost:8080/"
        },
        "id": "e6TuQ71eeLTE",
        "outputId": "d07cc531-a90b-42f6-c59b-7eece37e2e53"
      },
      "source": [
        "#tuple() : to make a tuple\n",
        "Country = tuple('CANADA')\n",
        "print(Country)"
      ],
      "execution_count": 10,
      "outputs": [
        {
          "output_type": "stream",
          "text": [
            "('C', 'A', 'N', 'A', 'D', 'A')\n"
          ],
          "name": "stdout"
        }
      ]
    },
    {
      "cell_type": "markdown",
      "metadata": {
        "id": "fsFa1G5barhq"
      },
      "source": [
        "#ACCESSING ELEMENT IN TUPLE\n",
        "~ will use index values to access the elements.\n",
        "\n",
        "~ Positive indexing : Starts from 0 and from left-handside.\n",
        "\n",
        "~ Negative Indexing : Starts from -1 and from Right-handside."
      ]
    },
    {
      "cell_type": "code",
      "metadata": {
        "colab": {
          "base_uri": "https://localhost:8080/"
        },
        "id": "oei-fWxmbnMk",
        "outputId": "1f29a8fa-1004-47a2-ac67-16d746f7084b"
      },
      "source": [
        "Vegetables = (\"Tomato\", \"potato\", \"ladyfinger\", \"onion\", \"cauliflour\", \"chilli\", \"Cabbage\", \"Cucumber\", \"Gaurdfamily\", \"Pumpkin\")\n",
        "print(Vegetables)\n",
        "print(Vegetables[4])\n",
        "print(Vegetables[-6])"
      ],
      "execution_count": 7,
      "outputs": [
        {
          "output_type": "stream",
          "text": [
            "('Tomato', 'potato', 'ladyfinger', 'onion', 'cauliflour', 'chilli', 'Cabbage', 'Cucumber', 'Gaurdfamily', 'Pumpkin')\n",
            "cauliflour\n",
            "cauliflour\n"
          ],
          "name": "stdout"
        }
      ]
    },
    {
      "cell_type": "markdown",
      "metadata": {
        "id": "Ao1Ru83Tcpb7"
      },
      "source": [
        "#Concatenation of the tuples\n",
        "~ Putting two things together ( one after another )\n",
        "\n",
        "~ tuple1 = (1,2,3,4)\n",
        "\n",
        "~ tuple2 = (5,6,7,8)\n",
        "\n",
        "~ print(tuple1 + tuple2)\n",
        "\n",
        "~ Output : (1,2,3,4,5,6,7,8)"
      ]
    },
    {
      "cell_type": "code",
      "metadata": {
        "colab": {
          "base_uri": "https://localhost:8080/"
        },
        "id": "p7NZPLNbdf0D",
        "outputId": "071c5a28-3d87-4a82-fd11-cfdfef857072"
      },
      "source": [
        "tuple1 = (1,2,3,4)\n",
        "tuple2 = (\"a\", \"b\", \"c\")\n",
        "print(tuple1 + tuple2)\n",
        "\n",
        "tuple3 = tuple1 + tuple2\n",
        "print(tuple3)\n"
      ],
      "execution_count": 9,
      "outputs": [
        {
          "output_type": "stream",
          "text": [
            "(1, 2, 3, 4, 'a', 'b', 'c')\n",
            "(1, 2, 3, 4, 'a', 'b', 'c')\n"
          ],
          "name": "stdout"
        }
      ]
    },
    {
      "cell_type": "markdown",
      "metadata": {
        "id": "SaK_gwZWejVt"
      },
      "source": [
        "#Slicing of the Tuple\n"
      ]
    },
    {
      "cell_type": "code",
      "metadata": {
        "colab": {
          "base_uri": "https://localhost:8080/"
        },
        "id": "FRrLyqULepTv",
        "outputId": "3089e5b2-7168-43d5-b1fd-61a28494fe99"
      },
      "source": [
        "print(Vegetables)\n",
        "print(Vegetables[2 : 7]) #Positive Indexing\n",
        "print(Vegetables[-8 : -3]) #Negative Indexing\n",
        "print(Vegetables[::-1]) #Reverse of the tuple\n",
        "print(Vegetables[::2]) # Jumps in Slicing \n",
        "print(Vegetables[::3])"
      ],
      "execution_count": 16,
      "outputs": [
        {
          "output_type": "stream",
          "text": [
            "('Tomato', 'potato', 'ladyfinger', 'onion', 'cauliflour', 'chilli', 'Cabbage', 'Cucumber', 'Gaurdfamily', 'Pumpkin')\n",
            "('ladyfinger', 'onion', 'cauliflour', 'chilli', 'Cabbage')\n",
            "('ladyfinger', 'onion', 'cauliflour', 'chilli', 'Cabbage')\n",
            "('Pumpkin', 'Gaurdfamily', 'Cucumber', 'Cabbage', 'chilli', 'cauliflour', 'onion', 'ladyfinger', 'potato', 'Tomato')\n",
            "('Tomato', 'ladyfinger', 'cauliflour', 'Cabbage', 'Gaurdfamily')\n",
            "('Tomato', 'onion', 'Cabbage', 'Pumpkin')\n"
          ],
          "name": "stdout"
        }
      ]
    },
    {
      "cell_type": "markdown",
      "metadata": {
        "id": "zSC86seShFt0"
      },
      "source": [
        "#Deleting the Tuples\n",
        "del keyword"
      ]
    },
    {
      "cell_type": "code",
      "metadata": {
        "colab": {
          "base_uri": "https://localhost:8080/"
        },
        "id": "WPO9VA6hhP9X",
        "outputId": "5c6eb5b2-9eee-4311-a701-a2fc227f519d"
      },
      "source": [
        "print(tuple1)"
      ],
      "execution_count": 17,
      "outputs": [
        {
          "output_type": "stream",
          "text": [
            "(1, 2, 3, 4)\n"
          ],
          "name": "stdout"
        }
      ]
    },
    {
      "cell_type": "code",
      "metadata": {
        "id": "DFoqdWBkhU7k"
      },
      "source": [
        "del tuple1"
      ],
      "execution_count": 18,
      "outputs": []
    },
    {
      "cell_type": "markdown",
      "metadata": {
        "id": "EcxhtCm4hpb2"
      },
      "source": [
        "#Built-in Functions\n",
        "1. index() : used to find out index value of an element\n",
        "2. count() : used to find out the occurence of a particular element"
      ]
    },
    {
      "cell_type": "code",
      "metadata": {
        "colab": {
          "base_uri": "https://localhost:8080/"
        },
        "id": "NndS9VtFh02x",
        "outputId": "422eff13-2c51-481d-e5d7-f36c45baf787"
      },
      "source": [
        "print(Vegetables)\n",
        "print(Vegetables.index(\"ladyfinger\"))"
      ],
      "execution_count": 21,
      "outputs": [
        {
          "output_type": "stream",
          "text": [
            "('Tomato', 'potato', 'ladyfinger', 'onion', 'cauliflour', 'chilli', 'Cabbage', 'Cucumber', 'Gaurdfamily', 'Pumpkin')\n",
            "2\n"
          ],
          "name": "stdout"
        }
      ]
    },
    {
      "cell_type": "code",
      "metadata": {
        "colab": {
          "base_uri": "https://localhost:8080/"
        },
        "id": "yA2_-p06iZcz",
        "outputId": "db10d7a4-da26-4b7b-e34c-52aba7d1fd69"
      },
      "source": [
        "Tuple01 = (11, 1, 1, 2, 6, 7 ,8 ,9, 0, 2,2, 3, 4, 6 ,7)\n",
        "print(Tuple01.count(2))\n",
        "print(Tuple01.index(1, 2, 5))\n",
        "print(Tuple01.index(2, 4, 10))"
      ],
      "execution_count": 25,
      "outputs": [
        {
          "output_type": "stream",
          "text": [
            "3\n",
            "2\n",
            "9\n"
          ],
          "name": "stdout"
        }
      ]
    },
    {
      "cell_type": "markdown",
      "metadata": {
        "id": "vd54M9NGjvVg"
      },
      "source": [
        "**Conclusion** :\n",
        "Tuples cannot be appended , changed and we cannot remove some particular elements from the tuple. \n",
        "\n",
        "We can delete whole tuple at once."
      ]
    }
  ]
}