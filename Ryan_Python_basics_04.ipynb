{
  "nbformat": 4,
  "nbformat_minor": 0,
  "metadata": {
    "colab": {
      "name": "Ryan_Python_basics_04.ipynb",
      "provenance": [],
      "authorship_tag": "ABX9TyO3LtNgQF3uT9NVbmJfB5qd",
      "include_colab_link": true
    },
    "kernelspec": {
      "name": "python3",
      "display_name": "Python 3"
    },
    "language_info": {
      "name": "python"
    }
  },
  "cells": [
    {
      "cell_type": "markdown",
      "metadata": {
        "id": "view-in-github",
        "colab_type": "text"
      },
      "source": [
        "<a href=\"https://colab.research.google.com/github/shaniaakhan21/GresRecSys/blob/main/Ryan_Python_basics_04.ipynb\" target=\"_parent\"><img src=\"https://colab.research.google.com/assets/colab-badge.svg\" alt=\"Open In Colab\"/></a>"
      ]
    },
    {
      "cell_type": "markdown",
      "metadata": {
        "id": "FGvjuKhVyYsf"
      },
      "source": [
        "#List\n",
        "List is a datatype in python which contains more than one values.\n",
        "Syntax : name_of_list = [\"strings\",1,2.04, True]"
      ]
    },
    {
      "cell_type": "code",
      "metadata": {
        "colab": {
          "base_uri": "https://localhost:8080/"
        },
        "id": "q5X2wCNrzMK_",
        "outputId": "809ad780-9a50-4ce5-fa82-e1de4283e48c"
      },
      "source": [
        "#empty list\n",
        "its_a_list = []\n",
        "print(its_a_list)\n",
        "\n",
        "#List containing integer values\n",
        "int_list = [55,4,895,5,9,8]\n",
        "print(int_list)\n",
        "\n",
        "#List containing Strings values\n",
        "String_list = [\"apple\", \"mango\", \"banana\", \"pineapple\", \"grapes\"]\n",
        "print(String_list)\n",
        "\n",
        "#mixed list: containing all the datatypes like, integer, string, float, boolean\n",
        "mixed_list = [120, \"one hundred twenty\", 1.20, False]\n",
        "print(mixed_list)"
      ],
      "execution_count": null,
      "outputs": [
        {
          "output_type": "stream",
          "text": [
            "[]\n",
            "[55, 4, 895, 5, 9, 8]\n",
            "['apple', 'mango', 'banana', 'pineapple', 'grapes']\n",
            "[120, 'one hundred twenty', 1.2, False]\n"
          ],
          "name": "stdout"
        }
      ]
    },
    {
      "cell_type": "markdown",
      "metadata": {
        "id": "uRk6_MXa154Y"
      },
      "source": [
        "***Nested List***: means list inside a list"
      ]
    },
    {
      "cell_type": "code",
      "metadata": {
        "colab": {
          "base_uri": "https://localhost:8080/"
        },
        "id": "JR_6tgX912SV",
        "outputId": "523f8c98-b59d-4fe6-8c9a-6560579e2662"
      },
      "source": [
        "nested_list = [15,\"fifteen\",[1,2,3,4,\"apple\",5.25],56,\"fifty six\",True]\n",
        "print(nested_list)"
      ],
      "execution_count": null,
      "outputs": [
        {
          "output_type": "stream",
          "text": [
            "[15, 'fifteen', [1, 2, 3, 4, 'apple', 5.25], 56, 'fifty six', True]\n"
          ],
          "name": "stdout"
        }
      ]
    },
    {
      "cell_type": "markdown",
      "metadata": {
        "id": "UlUZNxn93cI8"
      },
      "source": [
        "#**Accessing Items from a list**\n",
        "*   By using index values\n",
        "*   list index values starts from 0 : Positive indexing\n",
        "#Positive indexing\n",
        "\n",
        "\n"
      ]
    },
    {
      "cell_type": "code",
      "metadata": {
        "colab": {
          "base_uri": "https://localhost:8080/"
        },
        "id": "8HZR0M0W399f",
        "outputId": "1c727ad4-bba6-4d9e-98a1-b97218a01ad7"
      },
      "source": [
        "print(mixed_list[1])\n",
        "\n",
        "Vegetables = [\"carrot\",\"brinjal\",\"onion\",\"garlic\",\"ginger\",\"potato\",\"tomato\"]\n",
        "print(Vegetables)\n",
        "print(Vegetables[2])\n",
        "print(Vegetables[6])\n",
        "\n",
        "nested_list = [15,\"fifteen\",[1,2,3,4,\"apple\",5.25],56,\"fifty six\",True]\n",
        "print(nested_list)\n",
        "print(nested_list[2])\n",
        "print(nested_list[2][4])"
      ],
      "execution_count": null,
      "outputs": [
        {
          "output_type": "stream",
          "text": [
            "one hundred twenty\n",
            "['carrot', 'brinjal', 'onion', 'garlic', 'ginger', 'potato', 'tomato']\n",
            "onion\n",
            "tomato\n",
            "[15, 'fifteen', [1, 2, 3, 4, 'apple', 5.25], 56, 'fifty six', True]\n",
            "[1, 2, 3, 4, 'apple', 5.25]\n",
            "apple\n"
          ],
          "name": "stdout"
        }
      ]
    },
    {
      "cell_type": "markdown",
      "metadata": {
        "id": "kTbtU0PT9DOZ"
      },
      "source": [
        "**Negative Indexing**\n",
        "It starts from right side and number is -1"
      ]
    },
    {
      "cell_type": "code",
      "metadata": {
        "colab": {
          "base_uri": "https://localhost:8080/"
        },
        "id": "_RQ-fbvL9TAA",
        "outputId": "b9de1af9-21fa-4327-fea8-9f01cd665acb"
      },
      "source": [
        "cars = [\"BMW\", \"Audi\", \"Porshe\", \"Nano\", \"Figo\"]\n",
        "print(cars[-3])\n",
        "print(cars[2])"
      ],
      "execution_count": null,
      "outputs": [
        {
          "output_type": "stream",
          "text": [
            "Porshe\n",
            "Porshe\n"
          ],
          "name": "stdout"
        }
      ]
    },
    {
      "cell_type": "markdown",
      "metadata": {
        "id": "EDoWSy8WEzS1"
      },
      "source": [
        "#Slicing of a list \n",
        "~access more than one item at a time."
      ]
    },
    {
      "cell_type": "code",
      "metadata": {
        "colab": {
          "base_uri": "https://localhost:8080/"
        },
        "id": "bWRnUD9OFI8T",
        "outputId": "b5a40ba3-39c8-4b48-ef35-e9df06c35728"
      },
      "source": [
        "# name_of_list[start_index : end_index+1 ]\n",
        "print(cars)\n",
        "print(cars[1:4]) #Slicing with the help of positive index.\n",
        "print(cars[-4:-1]) #Slicing with the help of negative index.\n",
        "print(cars[:])\n",
        "print(cars[:3])\n",
        "print(cars[3:])"
      ],
      "execution_count": null,
      "outputs": [
        {
          "output_type": "stream",
          "text": [
            "['BMW', 'Audi', 'Porshe', 'Nano', 'Figo']\n",
            "['Audi', 'Porshe', 'Nano']\n",
            "['Audi', 'Porshe', 'Nano']\n",
            "['BMW', 'Audi', 'Porshe', 'Nano', 'Figo']\n",
            "['BMW', 'Audi', 'Porshe']\n",
            "['Nano', 'Figo']\n"
          ],
          "name": "stdout"
        }
      ]
    },
    {
      "cell_type": "code",
      "metadata": {
        "colab": {
          "base_uri": "https://localhost:8080/"
        },
        "id": "pqGPa01dISge",
        "outputId": "4312983b-e18f-4d53-8c01-221d9e2940ea"
      },
      "source": [
        "# jumps in slicings\n",
        "# name_of_list[start_index : end_index : 2(it'll skip one element) ]\n",
        "print(cars)\n",
        "print(cars[::2]) #it'll jump or skip one elements\n",
        "print(cars[::3])\n",
        "print(cars[:4:2])"
      ],
      "execution_count": null,
      "outputs": [
        {
          "output_type": "stream",
          "text": [
            "['BMW', 'Audi', 'Porshe', 'Nano', 'Figo']\n",
            "['BMW', 'Porshe', 'Figo']\n",
            "['BMW', 'Nano']\n",
            "['BMW', 'Porshe']\n"
          ],
          "name": "stdout"
        }
      ]
    },
    {
      "cell_type": "markdown",
      "metadata": {
        "id": "koZyxqOQJqGS"
      },
      "source": [
        "#Add or change item of a list"
      ]
    },
    {
      "cell_type": "code",
      "metadata": {
        "colab": {
          "base_uri": "https://localhost:8080/"
        },
        "id": "Q8u8fPBPJxe4",
        "outputId": "0b8cf9d2-3e41-4edd-9748-57b907bff157"
      },
      "source": [
        "#append() : will add items to the end of the list\n",
        "cars.append('Mango')\n",
        "print(cars)"
      ],
      "execution_count": null,
      "outputs": [
        {
          "output_type": "stream",
          "text": [
            "['BMW', 'Audi', 'Porshe', 'Nano', 'Figo', 'Mango']\n"
          ],
          "name": "stdout"
        }
      ]
    },
    {
      "cell_type": "code",
      "metadata": {
        "id": "_UeVVWlgKY_5"
      },
      "source": [
        "#insert(index_value_of_new_item, \"value\")\n",
        "cars.insert(2, \"apple\")"
      ],
      "execution_count": null,
      "outputs": []
    },
    {
      "cell_type": "code",
      "metadata": {
        "colab": {
          "base_uri": "https://localhost:8080/"
        },
        "id": "kod21JJALAbW",
        "outputId": "ad7791cf-8900-4553-b6f2-41f61708368c"
      },
      "source": [
        "print(cars)"
      ],
      "execution_count": null,
      "outputs": [
        {
          "output_type": "stream",
          "text": [
            "['BMW', 'Audi', 'apple', 'Porshe', 'Nano', 'Figo', 'Mango']\n"
          ],
          "name": "stdout"
        }
      ]
    },
    {
      "cell_type": "code",
      "metadata": {
        "colab": {
          "base_uri": "https://localhost:8080/"
        },
        "id": "g39-dOCSLT-Y",
        "outputId": "afcd783b-1ba8-4370-8e2a-132f745ed127"
      },
      "source": [
        "#Method to add more than one items at a time\n",
        "cars[3:5] = [\"banana\", \"orange\", \"grapes\"]\n",
        "print(cars)"
      ],
      "execution_count": null,
      "outputs": [
        {
          "output_type": "stream",
          "text": [
            "['BMW', 'Audi', 'apple', 'banana', 'orange', 'grapes', 'Figo', 'Mango']\n"
          ],
          "name": "stdout"
        }
      ]
    },
    {
      "cell_type": "markdown",
      "metadata": {
        "id": "15gqIPAaL9L2"
      },
      "source": [
        "#Delete or remove items from a list"
      ]
    },
    {
      "cell_type": "code",
      "metadata": {
        "colab": {
          "base_uri": "https://localhost:8080/"
        },
        "id": "aPB_qV4rMDMZ",
        "outputId": "39668726-5f3d-494b-b8cc-0e0b3c6420ce"
      },
      "source": [
        "#'del' : used to deletes items from a list.\n",
        "del cars[2]\n",
        "print(cars)"
      ],
      "execution_count": null,
      "outputs": [
        {
          "output_type": "stream",
          "text": [
            "['BMW', 'Audi', 'banana', 'orange', 'grapes', 'Figo', 'Mango']\n"
          ],
          "name": "stdout"
        }
      ]
    },
    {
      "cell_type": "code",
      "metadata": {
        "colab": {
          "base_uri": "https://localhost:8080/"
        },
        "id": "iklcFEuwMdiY",
        "outputId": "9904a588-3095-431c-b741-95b6016c6778"
      },
      "source": [
        "#remove()\n",
        "cars.remove(\"Mango\")\n",
        "print(cars)"
      ],
      "execution_count": null,
      "outputs": [
        {
          "output_type": "stream",
          "text": [
            "['BMW', 'Audi', 'banana', 'orange', 'grapes', 'Figo']\n"
          ],
          "name": "stdout"
        }
      ]
    },
    {
      "cell_type": "code",
      "metadata": {
        "colab": {
          "base_uri": "https://localhost:8080/"
        },
        "id": "DeXooLIZMxnO",
        "outputId": "fdf73c27-0ed3-464b-abc7-36783ea856bf"
      },
      "source": [
        "#pop() : remove last item from a list.\n",
        "cars.pop()\n",
        "print(cars)"
      ],
      "execution_count": null,
      "outputs": [
        {
          "output_type": "stream",
          "text": [
            "['BMW', 'Audi', 'banana', 'orange', 'grapes']\n"
          ],
          "name": "stdout"
        }
      ]
    },
    {
      "cell_type": "code",
      "metadata": {
        "colab": {
          "base_uri": "https://localhost:8080/"
        },
        "id": "kXfBTV2vNHcb",
        "outputId": "4d155e27-80ee-495c-c270-48abf82d68b0"
      },
      "source": [
        "#clear() : is used to make empty.\n",
        "cars.clear()\n",
        "print(cars)\n",
        "print(type(cars))"
      ],
      "execution_count": null,
      "outputs": [
        {
          "output_type": "stream",
          "text": [
            "[]\n",
            "<class 'list'>\n"
          ],
          "name": "stdout"
        }
      ]
    },
    {
      "cell_type": "code",
      "metadata": {
        "colab": {
          "base_uri": "https://localhost:8080/"
        },
        "id": "MrreqYL-NmBT",
        "outputId": "59d08ff5-66d8-44e4-e02d-5f2cf7cfdcb7"
      },
      "source": [
        "#Code for reversing a list\n",
        "integers = [1,23,4,55,66,7,8,9,10,24]\n",
        "print(integers)\n",
        "print(integers[::-1]) #Reverse the list by slicing"
      ],
      "execution_count": null,
      "outputs": [
        {
          "output_type": "stream",
          "text": [
            "[1, 23, 4, 55, 66, 7, 8, 9, 10, 24]\n",
            "[24, 10, 9, 8, 7, 66, 55, 4, 23, 1]\n"
          ],
          "name": "stdout"
        }
      ]
    }
  ]
}