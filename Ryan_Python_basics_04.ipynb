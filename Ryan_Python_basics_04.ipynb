{
  "nbformat": 4,
  "nbformat_minor": 0,
  "metadata": {
    "colab": {
      "name": "Ryan_Python_basics_04.ipynb",
      "provenance": [],
      "authorship_tag": "ABX9TyPuYj/DnAvVuNIdDNLLjX7F",
      "include_colab_link": true
    },
    "kernelspec": {
      "name": "python3",
      "display_name": "Python 3"
    },
    "language_info": {
      "name": "python"
    }
  },
  "cells": [
    {
      "cell_type": "markdown",
      "metadata": {
        "id": "view-in-github",
        "colab_type": "text"
      },
      "source": [
        "<a href=\"https://colab.research.google.com/github/shaniaakhan21/GresRecSys/blob/main/Ryan_Python_basics_04.ipynb\" target=\"_parent\"><img src=\"https://colab.research.google.com/assets/colab-badge.svg\" alt=\"Open In Colab\"/></a>"
      ]
    },
    {
      "cell_type": "markdown",
      "metadata": {
        "id": "FGvjuKhVyYsf"
      },
      "source": [
        "#List\n",
        "List is a datatype in python which contains more than one values.\n",
        "Syntax : name_of_list = [\"strings\",1,2.04, True]"
      ]
    },
    {
      "cell_type": "code",
      "metadata": {
        "colab": {
          "base_uri": "https://localhost:8080/"
        },
        "id": "q5X2wCNrzMK_",
        "outputId": "cc7010a7-da03-40f1-cb31-0998adbf36a2"
      },
      "source": [
        "#empty list\n",
        "its_a_list = []\n",
        "print(its_a_list)\n",
        "\n",
        "#List containing integer values\n",
        "int_list = [55,4,895,5,9,8]\n",
        "print(int_list)\n",
        "\n",
        "#List containing Strings values\n",
        "String_list = [\"apple\", \"mango\", \"banana\", \"pineapple\", \"grapes\"]\n",
        "print(String_list)\n",
        "\n",
        "#mixed list: containing all the datatypes like, integer, string, float, boolean\n",
        "mixed_list = [120, \"one hundred twenty\", 1.20, False]\n",
        "print(mixed_list)"
      ],
      "execution_count": 4,
      "outputs": [
        {
          "output_type": "stream",
          "text": [
            "[]\n",
            "[55, 4, 895, 5, 9, 8]\n",
            "['apple', 'mango', 'banana', 'pineapple', 'grapes']\n",
            "[120, 'one hundred twenty', 1.2, False]\n"
          ],
          "name": "stdout"
        }
      ]
    },
    {
      "cell_type": "markdown",
      "metadata": {
        "id": "uRk6_MXa154Y"
      },
      "source": [
        "***Nested List***: means list inside a list"
      ]
    },
    {
      "cell_type": "code",
      "metadata": {
        "colab": {
          "base_uri": "https://localhost:8080/"
        },
        "id": "JR_6tgX912SV",
        "outputId": "c8f33916-9680-40ec-b26b-17e887c45f99"
      },
      "source": [
        "nested_list = [15,\"fifteen\",[1,2,3,4,\"apple\",5.25],56,\"fifty six\",True]\n",
        "print(nested_list)"
      ],
      "execution_count": 5,
      "outputs": [
        {
          "output_type": "stream",
          "text": [
            "[15, 'fifteen', [1, 2, 3, 4, 'apple', 5.25], 56, 'fifty six', True]\n"
          ],
          "name": "stdout"
        }
      ]
    },
    {
      "cell_type": "markdown",
      "metadata": {
        "id": "UlUZNxn93cI8"
      },
      "source": [
        "#**Accessing Items from a list**\n",
        "*   By using index values\n",
        "*   list index values starts from 0 : Positive indexing\n",
        "#Positive indexing\n",
        "\n",
        "\n"
      ]
    },
    {
      "cell_type": "code",
      "metadata": {
        "colab": {
          "base_uri": "https://localhost:8080/"
        },
        "id": "8HZR0M0W399f",
        "outputId": "36dbe31b-1076-438f-b5c8-3e2ccdac1566"
      },
      "source": [
        "print(mixed_list[1])\n",
        "\n",
        "Vegetables = [\"carrot\",\"brinjal\",\"onion\",\"garlic\",\"ginger\",\"potato\",\"tomato\"]\n",
        "print(Vegetables)\n",
        "print(Vegetables[2])\n",
        "print(Vegetables[6])\n",
        "\n",
        "nested_list = [15,\"fifteen\",[1,2,3,4,\"apple\",5.25],56,\"fifty six\",True]\n",
        "print(nested_list)\n",
        "print(nested_list[2])\n",
        "print(nested_list[2][4])"
      ],
      "execution_count": 12,
      "outputs": [
        {
          "output_type": "stream",
          "text": [
            "one hundred twenty\n",
            "['carrot', 'brinjal', 'onion', 'garlic', 'ginger', 'potato', 'tomato']\n",
            "onion\n",
            "tomato\n",
            "[15, 'fifteen', [1, 2, 3, 4, 'apple', 5.25], 56, 'fifty six', True]\n",
            "[1, 2, 3, 4, 'apple', 5.25]\n",
            "apple\n"
          ],
          "name": "stdout"
        }
      ]
    },
    {
      "cell_type": "markdown",
      "metadata": {
        "id": "kTbtU0PT9DOZ"
      },
      "source": [
        "**Negative Indexing**\n",
        "It starts from right side and number is -1"
      ]
    },
    {
      "cell_type": "code",
      "metadata": {
        "colab": {
          "base_uri": "https://localhost:8080/"
        },
        "id": "_RQ-fbvL9TAA",
        "outputId": "7e22ed99-5634-4ec8-88f1-fd64c3ecadf0"
      },
      "source": [
        "cars = [\"BMW\", \"Audi\", \"Porshe\", \"Nano\", \"Figo\"]\n",
        "print(cars[-3])\n",
        "print(cars[2])"
      ],
      "execution_count": 14,
      "outputs": [
        {
          "output_type": "stream",
          "text": [
            "Porshe\n",
            "Porshe\n"
          ],
          "name": "stdout"
        }
      ]
    }
  ]
}