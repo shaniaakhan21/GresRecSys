{
  "nbformat": 4,
  "nbformat_minor": 0,
  "metadata": {
    "colab": {
      "name": "AADI&YOUSSEF_python_basics_07.ipynb",
      "provenance": [],
      "collapsed_sections": [],
      "authorship_tag": "ABX9TyO3YSJwc6NgehxXqg5a9V3G",
      "include_colab_link": true
    },
    "kernelspec": {
      "name": "python3",
      "display_name": "Python 3"
    },
    "language_info": {
      "name": "python"
    }
  },
  "cells": [
    {
      "cell_type": "markdown",
      "metadata": {
        "id": "view-in-github",
        "colab_type": "text"
      },
      "source": [
        "<a href=\"https://colab.research.google.com/github/shaniaakhan21/GresRecSys/blob/main/AADI%26YOUSSEF_python_basics_07.ipynb\" target=\"_parent\"><img src=\"https://colab.research.google.com/assets/colab-badge.svg\" alt=\"Open In Colab\"/></a>"
      ]
    },
    {
      "cell_type": "markdown",
      "metadata": {
        "id": "3nsygHUuqW7Y"
      },
      "source": [
        "#Dictionary\n",
        "It's a datatype in python used to store some value. Every element in dictionary has key related to it.\n",
        "Syntax : dict = {key:value, key:value}"
      ]
    },
    {
      "cell_type": "code",
      "metadata": {
        "colab": {
          "base_uri": "https://localhost:8080/"
        },
        "id": "V8RFkZJ3rBzR",
        "outputId": "7de51c64-99f0-4087-b70b-f7912b3042a9"
      },
      "source": [
        "#Creating a dictionary: Key has to be unique , but value can be same for more than one key.\n",
        "Fruits = {1:\"apple\", 2:\"mango\", 3:\"mango\"}\n",
        "print(Fruits)"
      ],
      "execution_count": 2,
      "outputs": [
        {
          "output_type": "stream",
          "text": [
            "{1: 'apple', 2: 'mango', 3: 'mango'}\n"
          ],
          "name": "stdout"
        }
      ]
    },
    {
      "cell_type": "code",
      "metadata": {
        "colab": {
          "base_uri": "https://localhost:8080/"
        },
        "id": "TemX9onisdAT",
        "outputId": "2df854c2-06b2-4173-c8aa-2ac6e154ff38"
      },
      "source": [
        "mixed_dt = {12:\"twelve\", \"thirty\":20, 2.06:\"one-two\" } #we can have any dataype for key or value.\n",
        "print(mixed_dt)"
      ],
      "execution_count": 3,
      "outputs": [
        {
          "output_type": "stream",
          "text": [
            "{12: 'twelve', 'thirty': 20, 2.06: 'one-two'}\n"
          ],
          "name": "stdout"
        }
      ]
    },
    {
      "cell_type": "code",
      "metadata": {
        "colab": {
          "base_uri": "https://localhost:8080/"
        },
        "id": "d1GhskpHtN4l",
        "outputId": "17ca149f-5b44-42f3-8da0-0e2c4a0d0917"
      },
      "source": [
        "#Create an empty dictionary\n",
        "empty_dict = {}\n",
        "print(empty_dict)\n",
        "print(type(empty_dict))"
      ],
      "execution_count": 4,
      "outputs": [
        {
          "output_type": "stream",
          "text": [
            "{}\n",
            "<class 'dict'>\n"
          ],
          "name": "stdout"
        }
      ]
    },
    {
      "cell_type": "code",
      "metadata": {
        "colab": {
          "base_uri": "https://localhost:8080/"
        },
        "id": "RL_A9dEGuPYc",
        "outputId": "65eb4ca6-8c81-4264-deb2-4878bc96fa51"
      },
      "source": [
        "#dict()\n",
        "Vegetables = dict({1:\"potato\", \"tomato\":2, 2.05:\"carrot\", 3:\"raddish\"})\n",
        "print(Vegetables)"
      ],
      "execution_count": 5,
      "outputs": [
        {
          "output_type": "stream",
          "text": [
            "{1: 'potato', 'tomato': 2, 2.05: 'carrot', 3: 'raddish'}\n"
          ],
          "name": "stdout"
        }
      ]
    },
    {
      "cell_type": "code",
      "metadata": {
        "colab": {
          "base_uri": "https://localhost:8080/"
        },
        "id": "Xv0fDB9tu1SY",
        "outputId": "ac431311-3af4-4eff-dca5-2529ed4465b6"
      },
      "source": [
        "Cars = dict([(2,\"BMW\"),(1,\"Porshe\"),(3,\"Audi\")])\n",
        "print(Cars)"
      ],
      "execution_count": 6,
      "outputs": [
        {
          "output_type": "stream",
          "text": [
            "{2: 'BMW', 1: 'Porshe', 3: 'Audi'}\n"
          ],
          "name": "stdout"
        }
      ]
    },
    {
      "cell_type": "markdown",
      "metadata": {
        "id": "S8VPy_4oEEMP"
      },
      "source": [
        "#Nested Dictionary\n",
        "Dictionary inside a dictionary \n",
        "~ value of a key can be dictionary"
      ]
    },
    {
      "cell_type": "code",
      "metadata": {
        "colab": {
          "base_uri": "https://localhost:8080/"
        },
        "id": "qFJzjtOCEw2D",
        "outputId": "f11f7bb2-7632-4f6f-8e92-d60584d864e8"
      },
      "source": [
        "operations = {1: \"addition\", 2: \"Subtraction\", 3:{101: \"add\", 102: \"sub\", 103:\"Mul\"}, 4: \"Multiplication\"}\n",
        "print(operations)"
      ],
      "execution_count": 7,
      "outputs": [
        {
          "output_type": "stream",
          "text": [
            "{1: 'addition', 2: 'Subtraction', 3: {101: 'add', 102: 'sub', 103: 'Mul'}, 4: 'Multiplication'}\n"
          ],
          "name": "stdout"
        }
      ]
    },
    {
      "cell_type": "markdown",
      "metadata": {
        "id": "cTxbvX5JHIeU"
      },
      "source": [
        "#Adding elements to a dictionary.\n",
        "\n",
        "\n"
      ]
    },
    {
      "cell_type": "code",
      "metadata": {
        "colab": {
          "base_uri": "https://localhost:8080/"
        },
        "id": "GHXR_v8oHsoS",
        "outputId": "a11b02fd-f66a-43bd-c416-4ea89dfb6e96"
      },
      "source": [
        "operations[\"new key\"] = \"Value\"\n",
        "print(operations)\n",
        "\n",
        "operations[\"tuple\"] = (1,2,3,4,5,6)\n",
        "print(operations)\n"
      ],
      "execution_count": 8,
      "outputs": [
        {
          "output_type": "stream",
          "text": [
            "{1: 'addition', 2: 'Subtraction', 3: {101: 'add', 102: 'sub', 103: 'Mul'}, 4: 'Multiplication', 'new key': 'Value'}\n",
            "{1: 'addition', 2: 'Subtraction', 3: {101: 'add', 102: 'sub', 103: 'Mul'}, 4: 'Multiplication', 'new key': 'Value', 'tuple': (1, 2, 3, 4, 5, 6)}\n"
          ],
          "name": "stdout"
        }
      ]
    },
    {
      "cell_type": "markdown",
      "metadata": {
        "id": "y1qLzwdMJRac"
      },
      "source": [
        "#Accessing the elements from a dictionary\n",
        "~ with the help of keys"
      ]
    },
    {
      "cell_type": "code",
      "metadata": {
        "colab": {
          "base_uri": "https://localhost:8080/"
        },
        "id": "PJ-bS79IJehN",
        "outputId": "e51519b4-428d-4894-ef7a-ebfe1f0d4306"
      },
      "source": [
        "print(operations[2])\n",
        "print(operations[3])\n",
        "print(operations[\"tuple\"])\n",
        "print(operations[3][101]) #accessing element of nested dictionary"
      ],
      "execution_count": 9,
      "outputs": [
        {
          "output_type": "stream",
          "text": [
            "Subtraction\n",
            "{101: 'add', 102: 'sub', 103: 'Mul'}\n",
            "(1, 2, 3, 4, 5, 6)\n",
            "add\n"
          ],
          "name": "stdout"
        }
      ]
    },
    {
      "cell_type": "code",
      "metadata": {
        "colab": {
          "base_uri": "https://localhost:8080/"
        },
        "id": "KUUgujTBMHPa",
        "outputId": "a4599407-ef04-4bc2-8b95-9cf854d2f13b"
      },
      "source": [
        "#get() , for accessing element\n",
        "print(operations.get(2))"
      ],
      "execution_count": 10,
      "outputs": [
        {
          "output_type": "stream",
          "text": [
            "Subtraction\n"
          ],
          "name": "stdout"
        }
      ]
    },
    {
      "cell_type": "markdown",
      "metadata": {
        "id": "4elKxf9zfKbt"
      },
      "source": [
        "#Removing Elements from a dictionary\n"
      ]
    },
    {
      "cell_type": "code",
      "metadata": {
        "colab": {
          "base_uri": "https://localhost:8080/"
        },
        "id": "wKtDj7CIfUzn",
        "outputId": "2a62062d-dafa-4fc2-f265-972e75184232"
      },
      "source": [
        "# del keyword\n",
        "print(operations)\n",
        "del operations[1]\n",
        "print(operations)"
      ],
      "execution_count": 14,
      "outputs": [
        {
          "output_type": "stream",
          "text": [
            "{1: 'addition', 3: {101: 'add', 102: 'sub', 103: 'Mul'}, 4: 'Multiplication', 'new key': 'Value', 'tuple': (1, 2, 3, 4, 5, 6)}\n",
            "{3: {101: 'add', 102: 'sub', 103: 'Mul'}, 4: 'Multiplication', 'new key': 'Value', 'tuple': (1, 2, 3, 4, 5, 6)}\n"
          ],
          "name": "stdout"
        }
      ]
    },
    {
      "cell_type": "code",
      "metadata": {
        "colab": {
          "base_uri": "https://localhost:8080/"
        },
        "id": "p4Riy6B4geLo",
        "outputId": "1aa08d4e-9a07-4b23-e0d1-3733f03ec8be"
      },
      "source": [
        "del operations[3][103]\n",
        "print(operations)"
      ],
      "execution_count": 15,
      "outputs": [
        {
          "output_type": "stream",
          "text": [
            "{3: {101: 'add', 102: 'sub'}, 4: 'Multiplication', 'new key': 'Value', 'tuple': (1, 2, 3, 4, 5, 6)}\n"
          ],
          "name": "stdout"
        }
      ]
    },
    {
      "cell_type": "code",
      "metadata": {
        "colab": {
          "base_uri": "https://localhost:8080/"
        },
        "id": "9jIWvK9_gtzF",
        "outputId": "8f2ccfab-9bee-4d20-f4f8-f87c76965af1"
      },
      "source": [
        "#pop()\n",
        "operations.pop('new key')\n",
        "print(operations)"
      ],
      "execution_count": 16,
      "outputs": [
        {
          "output_type": "stream",
          "text": [
            "{3: {101: 'add', 102: 'sub'}, 4: 'Multiplication', 'tuple': (1, 2, 3, 4, 5, 6)}\n"
          ],
          "name": "stdout"
        }
      ]
    },
    {
      "cell_type": "code",
      "metadata": {
        "colab": {
          "base_uri": "https://localhost:8080/"
        },
        "id": "cBhFw5bgie7n",
        "outputId": "cf9dc9f0-c892-499c-cebf-6650322426ec"
      },
      "source": [
        "#popitem()\n",
        "operations.popitem()\n",
        "print(operations)"
      ],
      "execution_count": 17,
      "outputs": [
        {
          "output_type": "stream",
          "text": [
            "{3: {101: 'add', 102: 'sub'}, 4: 'Multiplication'}\n"
          ],
          "name": "stdout"
        }
      ]
    },
    {
      "cell_type": "code",
      "metadata": {
        "colab": {
          "base_uri": "https://localhost:8080/"
        },
        "id": "uV8i0yjSjzhJ",
        "outputId": "75b08160-a9e4-4bc6-a3b7-ca7b2eb1e1df"
      },
      "source": [
        "#clear()\n",
        "operations.clear()\n",
        "print(operations)"
      ],
      "execution_count": 18,
      "outputs": [
        {
          "output_type": "stream",
          "text": [
            "{}\n"
          ],
          "name": "stdout"
        }
      ]
    },
    {
      "cell_type": "code",
      "metadata": {
        "colab": {
          "base_uri": "https://localhost:8080/"
        },
        "id": "U61nKP48kGW9",
        "outputId": "05cc73d5-a677-4ec1-f5ab-917ce6b75c87"
      },
      "source": [
        "#Built-in Functions\n",
        "# copy()\n",
        "\n",
        "original_dict = {1:\"a\", 2:\"b\", 3:\"c\", 4:\"d\"}\n",
        "print(original_dict)\n",
        "\n",
        "copy_dict = original_dict.copy()\n",
        "print(copy_dict)"
      ],
      "execution_count": 19,
      "outputs": [
        {
          "output_type": "stream",
          "text": [
            "{1: 'a', 2: 'b', 3: 'c', 4: 'd'}\n",
            "{1: 'a', 2: 'b', 3: 'c', 4: 'd'}\n"
          ],
          "name": "stdout"
        }
      ]
    },
    {
      "cell_type": "code",
      "metadata": {
        "colab": {
          "base_uri": "https://localhost:8080/"
        },
        "id": "fUlD-KRglEAF",
        "outputId": "37202763-bb44-44f8-9f71-d09be562948a"
      },
      "source": [
        "#values() : all the values of dictionary \n",
        "print(original_dict.values())\n",
        "\n",
        "#keys(): all the keys of dictionary\n",
        "print(original_dict.keys()) "
      ],
      "execution_count": 21,
      "outputs": [
        {
          "output_type": "stream",
          "text": [
            "dict_values(['a', 'b', 'c', 'd'])\n",
            "dict_keys([1, 2, 3, 4])\n"
          ],
          "name": "stdout"
        }
      ]
    }
  ]
}