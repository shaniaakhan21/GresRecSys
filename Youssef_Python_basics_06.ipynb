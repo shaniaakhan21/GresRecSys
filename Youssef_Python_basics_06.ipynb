{
  "nbformat": 4,
  "nbformat_minor": 0,
  "metadata": {
    "colab": {
      "name": "Youssef_Python_basics_06.ipynb",
      "provenance": [],
      "authorship_tag": "ABX9TyMqdw4WF0ONKJyAygK+NbzW",
      "include_colab_link": true
    },
    "kernelspec": {
      "name": "python3",
      "display_name": "Python 3"
    },
    "language_info": {
      "name": "python"
    }
  },
  "cells": [
    {
      "cell_type": "markdown",
      "metadata": {
        "id": "view-in-github",
        "colab_type": "text"
      },
      "source": [
        "<a href=\"https://colab.research.google.com/github/shaniaakhan21/GresRecSys/blob/main/Youssef_Python_basics_06.ipynb\" target=\"_parent\"><img src=\"https://colab.research.google.com/assets/colab-badge.svg\" alt=\"Open In Colab\"/></a>"
      ]
    },
    {
      "cell_type": "markdown",
      "metadata": {
        "id": "9mmdpZEgQlh5"
      },
      "source": [
        "#List\n",
        "List is a datatype in python which can contain more than one items or elements.\n",
        "Syntax: name_of_list = [\"apple\",1,2.4]"
      ]
    },
    {
      "cell_type": "code",
      "metadata": {
        "colab": {
          "base_uri": "https://localhost:8080/"
        },
        "id": "r1C1HkhyRW4S",
        "outputId": "cbf3267e-ee56-4d5e-b4b5-74514fd7f238"
      },
      "source": [
        "#empty list\n",
        "its_a_list = []\n",
        "print(its_a_list)\n",
        "print(type(its_a_list))"
      ],
      "execution_count": 4,
      "outputs": [
        {
          "output_type": "stream",
          "text": [
            "[]\n",
            "<class 'list'>\n"
          ],
          "name": "stdout"
        }
      ]
    },
    {
      "cell_type": "code",
      "metadata": {
        "colab": {
          "base_uri": "https://localhost:8080/"
        },
        "id": "kOHXpNi_SYxe",
        "outputId": "277b4243-3647-4430-e821-ca5914becb72"
      },
      "source": [
        "#list contaning integer values\n",
        "int_list = [1,2,3,44,5,600]\n",
        "print(int_list)\n",
        "\n",
        "#list Contaning String Values\n",
        "string_list = [\"india\",\"US\",\"Sri Lanka\",\"Pakistan\",\"UAE\"]\n",
        "print(string_list)\n",
        "\n",
        "#mixed list: contaning integers, Strings, float, Boolean(True or False)\n",
        "mixed_list = [100, \"USA\", 5.008, True]\n",
        "print(mixed_list)"
      ],
      "execution_count": 7,
      "outputs": [
        {
          "output_type": "stream",
          "text": [
            "[1, 2, 3, 44, 5, 600]\n",
            "['india', 'US', 'Sri Lanka', 'Pakistan', 'UAE']\n",
            "[100, 'USA', 5.008, True]\n"
          ],
          "name": "stdout"
        }
      ]
    },
    {
      "cell_type": "markdown",
      "metadata": {
        "id": "QQbWSS4sVB6O"
      },
      "source": [
        "#Nested List\n",
        "List inside a list"
      ]
    },
    {
      "cell_type": "code",
      "metadata": {
        "colab": {
          "base_uri": "https://localhost:8080/"
        },
        "id": "d03gI6bjVKNw",
        "outputId": "78abff79-641d-4908-ddde-e3f7ffdc1320"
      },
      "source": [
        "nested_list = [\"abc\", [1,2,\"apple\"], \"mango\", 5, 6.22 ]\n",
        "print(nested_list)"
      ],
      "execution_count": 8,
      "outputs": [
        {
          "output_type": "stream",
          "text": [
            "['abc', [1, 2, 'apple'], 'mango', 5, 6.22]\n"
          ],
          "name": "stdout"
        }
      ]
    },
    {
      "cell_type": "markdown",
      "metadata": {
        "id": "Uuj4jCvLVmOQ"
      },
      "source": [
        "#Accessing Items from a List\n",
        "By using Index values: List Index. \n",
        "Index Value always starts with 0"
      ]
    },
    {
      "cell_type": "markdown",
      "metadata": {
        "id": "4QBAQZ6AYLAO"
      },
      "source": [
        "Positive Indexing"
      ]
    },
    {
      "cell_type": "code",
      "metadata": {
        "colab": {
          "base_uri": "https://localhost:8080/"
        },
        "id": "SuTHUSTbXgdE",
        "outputId": "a7aa39cb-8f72-4ada-814c-63fb9fd711d2"
      },
      "source": [
        "print(nested_list[1])\n",
        "print(nested_list[4])\n",
        "print(nested_list[1][2])"
      ],
      "execution_count": 11,
      "outputs": [
        {
          "output_type": "stream",
          "text": [
            "[1, 2, 'apple']\n",
            "6.22\n",
            "apple\n"
          ],
          "name": "stdout"
        }
      ]
    },
    {
      "cell_type": "markdown",
      "metadata": {
        "id": "E46An3OMYN40"
      },
      "source": [
        "Negative Indexing"
      ]
    },
    {
      "cell_type": "code",
      "metadata": {
        "colab": {
          "base_uri": "https://localhost:8080/"
        },
        "id": "-K_I0_VTYQWa",
        "outputId": "0d904608-5c2a-4d81-c91c-7a0894b7d600"
      },
      "source": [
        "# Negative Indexing always starts with -1, and this -1 is the index value for element of the list.\n",
        "print(nested_list[-4])\n",
        "print(nested_list[-4][-2])"
      ],
      "execution_count": 15,
      "outputs": [
        {
          "output_type": "stream",
          "text": [
            "[1, 2, 'apple']\n",
            "2\n"
          ],
          "name": "stdout"
        }
      ]
    }
  ]
}