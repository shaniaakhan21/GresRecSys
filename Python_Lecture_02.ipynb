{
  "nbformat": 4,
  "nbformat_minor": 0,
  "metadata": {
    "colab": {
      "name": "Python_Lecture_02.ipynb",
      "provenance": [],
      "authorship_tag": "ABX9TyMpIBzw6jPviZ8WTGbeFvja",
      "include_colab_link": true
    },
    "kernelspec": {
      "name": "python3",
      "display_name": "Python 3"
    },
    "language_info": {
      "name": "python"
    }
  },
  "cells": [
    {
      "cell_type": "markdown",
      "metadata": {
        "id": "view-in-github",
        "colab_type": "text"
      },
      "source": [
        "<a href=\"https://colab.research.google.com/github/shaniaakhan21/GresRecSys/blob/main/Python_Lecture_02.ipynb\" target=\"_parent\"><img src=\"https://colab.research.google.com/assets/colab-badge.svg\" alt=\"Open In Colab\"/></a>"
      ]
    },
    {
      "cell_type": "markdown",
      "metadata": {
        "id": "8sRPgqCS0jiB"
      },
      "source": [
        "COMPARISON OPERATORS\n"
      ]
    },
    {
      "cell_type": "code",
      "metadata": {
        "colab": {
          "base_uri": "https://localhost:8080/"
        },
        "id": "WWJA18s-0U_t",
        "outputId": "125eb2d1-1a0f-4804-8a25-3aa9e0d164ad"
      },
      "source": [
        "#\"==\" compare the two values.\n",
        "a = 12\n",
        "b = 12\n",
        "print(a==b)"
      ],
      "execution_count": null,
      "outputs": [
        {
          "output_type": "stream",
          "text": [
            "True\n"
          ],
          "name": "stdout"
        }
      ]
    },
    {
      "cell_type": "code",
      "metadata": {
        "colab": {
          "base_uri": "https://localhost:8080/"
        },
        "id": "860STNRk1x3n",
        "outputId": "e86bbbb7-4b77-4eae-c600-c2b5220c54a8"
      },
      "source": [
        "#\"!=\" compares the value\n",
        "print(a!=b)"
      ],
      "execution_count": null,
      "outputs": [
        {
          "output_type": "stream",
          "text": [
            "False\n"
          ],
          "name": "stdout"
        }
      ]
    },
    {
      "cell_type": "code",
      "metadata": {
        "colab": {
          "base_uri": "https://localhost:8080/"
        },
        "id": "ZzRrdhNw17Nq",
        "outputId": "be9447cd-1af4-4b96-ee1f-f9456bcfcb9f"
      },
      "source": [
        "#\"<\"  this compare value and will tell us if x<y.\n",
        "#\">\" this compare value and will tell us if x<y.\n",
        "print(a>b)\n",
        "if a>b:\n",
        "  print(\"A is the geater one\")\n",
        "elif b>a:\n",
        "  print(\"B is the greater one\")\n",
        "else:\n",
        "  print(\"They are equal\")"
      ],
      "execution_count": null,
      "outputs": [
        {
          "output_type": "stream",
          "text": [
            "False\n",
            "They are equal\n"
          ],
          "name": "stdout"
        }
      ]
    },
    {
      "cell_type": "code",
      "metadata": {
        "colab": {
          "base_uri": "https://localhost:8080/"
        },
        "id": "dYg4tGZX3G4_",
        "outputId": "7dbf3011-a915-4535-fe8c-2c625597d44a"
      },
      "source": [
        "#\">=\" to find if one operand is greater than or equal to other operand.\n",
        "#\"<=\" to find if one operand is less than or equal to other operand.\n",
        "print(a>=b)\n",
        "print(a<=b)"
      ],
      "execution_count": null,
      "outputs": [
        {
          "output_type": "stream",
          "text": [
            "True\n",
            "True\n"
          ],
          "name": "stdout"
        }
      ]
    },
    {
      "cell_type": "markdown",
      "metadata": {
        "id": "UQwBpWmx37Ay"
      },
      "source": [
        "# Logical Operators\n"
      ]
    },
    {
      "cell_type": "code",
      "metadata": {
        "colab": {
          "base_uri": "https://localhost:8080/"
        },
        "id": "QdR963YL4LjL",
        "outputId": "3e9840d9-a4f5-4b81-b103-4134ee6435c8"
      },
      "source": [
        "#\"AND\" operator. If both the values are true .\n",
        "x = 10\n",
        "y = 20\n",
        "if  x>y and y>0 and y<20 or x>0:\n",
        "  print(\"x is the greater number\")\n",
        "else:\n",
        "  print(\"y is greater than x\")\n"
      ],
      "execution_count": null,
      "outputs": [
        {
          "output_type": "stream",
          "text": [
            "y is greater than x\n"
          ],
          "name": "stdout"
        }
      ]
    },
    {
      "cell_type": "code",
      "metadata": {
        "colab": {
          "base_uri": "https://localhost:8080/"
        },
        "id": "2i5dF4_U5ihX",
        "outputId": "73997ad0-7737-4e43-e579-f9dcce85d8bd"
      },
      "source": [
        "#\"OR\" operator. If both the values are true .\n",
        "x = 10\n",
        "y = 20\n",
        "if y>x or y>0:\n",
        "  print(\"x is the greater number\")\n",
        "else:\n",
        "  print(\"y is greater than x\")"
      ],
      "execution_count": null,
      "outputs": [
        {
          "output_type": "stream",
          "text": [
            "x is the greater number\n"
          ],
          "name": "stdout"
        }
      ]
    },
    {
      "cell_type": "code",
      "metadata": {
        "colab": {
          "base_uri": "https://localhost:8080/"
        },
        "id": "i7VevQUO53At",
        "outputId": "006b5eaf-a7a1-4afa-be7d-b84893b163f7"
      },
      "source": [
        "#\"NOT\" s to reverse the boolean value.\n",
        "z = True\n",
        "print(not z)"
      ],
      "execution_count": null,
      "outputs": [
        {
          "output_type": "stream",
          "text": [
            "False\n"
          ],
          "name": "stdout"
        }
      ]
    },
    {
      "cell_type": "markdown",
      "metadata": {
        "id": "vqgWFHLP8cq5"
      },
      "source": [
        "Identity Operator"
      ]
    },
    {
      "cell_type": "code",
      "metadata": {
        "colab": {
          "base_uri": "https://localhost:8080/"
        },
        "id": "1e7Wf-6k8gT5",
        "outputId": "f6ab321e-fc14-4d65-d17c-4c15c79b42d1"
      },
      "source": [
        "#\"is\" operator\n",
        "c = 5\n",
        "d = 6\n",
        "print(c is d )"
      ],
      "execution_count": null,
      "outputs": [
        {
          "output_type": "stream",
          "text": [
            "False\n"
          ],
          "name": "stdout"
        }
      ]
    },
    {
      "cell_type": "code",
      "metadata": {
        "colab": {
          "base_uri": "https://localhost:8080/"
        },
        "id": "4xAnDN4T87sN",
        "outputId": "fe39fbfa-01d6-452f-87cc-43c0449c994f"
      },
      "source": [
        "#\"is not\" one operand is not same as other operand or does not have same value as other.\n",
        "print(c is not d)"
      ],
      "execution_count": null,
      "outputs": [
        {
          "output_type": "stream",
          "text": [
            "True\n"
          ],
          "name": "stdout"
        }
      ]
    },
    {
      "cell_type": "markdown",
      "metadata": {
        "id": "KAXPcMWS-ILy"
      },
      "source": [
        "Membership Operators"
      ]
    },
    {
      "cell_type": "code",
      "metadata": {
        "colab": {
          "base_uri": "https://localhost:8080/"
        },
        "id": "LiZoe0vI-QZz",
        "outputId": "d9f2b923-89ea-4ac4-dbf0-75196282e078"
      },
      "source": [
        "#\"in\" operator , to know if the value exists.\n",
        "j = \"Hello World\"\n",
        "print('H' in j)"
      ],
      "execution_count": null,
      "outputs": [
        {
          "output_type": "stream",
          "text": [
            "True\n"
          ],
          "name": "stdout"
        }
      ]
    },
    {
      "cell_type": "code",
      "metadata": {
        "colab": {
          "base_uri": "https://localhost:8080/"
        },
        "id": "Vd5SfhCO_Gey",
        "outputId": "b8471431-b258-4307-ffab-d61c4b20f650"
      },
      "source": [
        "#\"not in \"\n",
        "print('e' not in j)"
      ],
      "execution_count": null,
      "outputs": [
        {
          "output_type": "stream",
          "text": [
            "False\n"
          ],
          "name": "stdout"
        }
      ]
    }
  ]
}