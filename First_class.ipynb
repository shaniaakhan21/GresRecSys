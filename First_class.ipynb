{
  "nbformat": 4,
  "nbformat_minor": 0,
  "metadata": {
    "colab": {
      "name": "First_class.ipynb",
      "provenance": [],
      "collapsed_sections": [],
      "authorship_tag": "ABX9TyOcahNconpC58SAKO5xYCun",
      "include_colab_link": true
    },
    "kernelspec": {
      "name": "python3",
      "display_name": "Python 3"
    },
    "language_info": {
      "name": "python"
    }
  },
  "cells": [
    {
      "cell_type": "markdown",
      "metadata": {
        "id": "view-in-github",
        "colab_type": "text"
      },
      "source": [
        "<a href=\"https://colab.research.google.com/github/shaniaakhan21/GresRecSys/blob/main/First_class.ipynb\" target=\"_parent\"><img src=\"https://colab.research.google.com/assets/colab-badge.svg\" alt=\"Open In Colab\"/></a>"
      ]
    },
    {
      "cell_type": "markdown",
      "metadata": {
        "id": "Z-W3o9PIk_U_"
      },
      "source": [
        "Comments in Python"
      ]
    },
    {
      "cell_type": "code",
      "metadata": {
        "id": "CZVcQXXTluUo"
      },
      "source": [
        "#Comments in python.\n",
        "'''Statement 1 \n",
        "statement 2 \n",
        "statement 3\n",
        "'''"
      ],
      "execution_count": null,
      "outputs": []
    },
    {
      "cell_type": "markdown",
      "metadata": {
        "id": "wLh9DGdonZIO"
      },
      "source": [
        "Print Function"
      ]
    },
    {
      "cell_type": "code",
      "metadata": {
        "colab": {
          "base_uri": "https://localhost:8080/"
        },
        "id": "CcW4NCgBnbrZ",
        "outputId": "6b042189-e7d8-4c34-ccdb-ff93ffa50909"
      },
      "source": [
        "print(1)"
      ],
      "execution_count": null,
      "outputs": [
        {
          "output_type": "stream",
          "text": [
            "1\n"
          ],
          "name": "stdout"
        }
      ]
    },
    {
      "cell_type": "code",
      "metadata": {
        "colab": {
          "base_uri": "https://localhost:8080/"
        },
        "id": "-RpM4lmbpSu2",
        "outputId": "1ed527d8-428e-47ae-d957-c6a25ebe500f"
      },
      "source": [
        "print(\"Hey ADAM\") #Everything between the \"\" is a string."
      ],
      "execution_count": null,
      "outputs": [
        {
          "output_type": "stream",
          "text": [
            "Hey ADAM\n"
          ],
          "name": "stdout"
        }
      ]
    },
    {
      "cell_type": "markdown",
      "metadata": {
        "id": "o04GNEw66g5R"
      },
      "source": [
        "#DATATYPES"
      ]
    },
    {
      "cell_type": "markdown",
      "metadata": {
        "id": "bRTKSCCG8VNv"
      },
      "source": [
        "1. Numbers\n",
        "2. String\n",
        "3. Float\n",
        "4. List\n",
        "5. Tuple\n",
        "6. Dictionary"
      ]
    },
    {
      "cell_type": "code",
      "metadata": {
        "colab": {
          "base_uri": "https://localhost:8080/"
        },
        "id": "XbPj2DP-8AxR",
        "outputId": "359c79b8-3de3-4fa6-c31d-b5b4acdb8773"
      },
      "source": [
        "print(1+1)\n",
        "print(type(1))\n",
        "print(\"i have 1 icecream\")\n",
        "print(type(\"1\"))\n"
      ],
      "execution_count": 8,
      "outputs": [
        {
          "output_type": "stream",
          "text": [
            "2\n",
            "<class 'int'>\n",
            "i have 1 icecream\n",
            "<class 'str'>\n"
          ],
          "name": "stdout"
        }
      ]
    },
    {
      "cell_type": "code",
      "metadata": {
        "colab": {
          "base_uri": "https://localhost:8080/"
        },
        "id": "dgLB74fKELNP",
        "outputId": "ec5e39e4-fcc9-4c69-8714-b8ea0dafa28f"
      },
      "source": [
        "print(2.004)\n",
        "print(type(1.025))\n",
        "print(type(2.0))"
      ],
      "execution_count": 13,
      "outputs": [
        {
          "output_type": "stream",
          "text": [
            "2.004\n",
            "<class 'float'>\n",
            "<class 'float'>\n"
          ],
          "name": "stdout"
        }
      ]
    },
    {
      "cell_type": "code",
      "metadata": {
        "colab": {
          "base_uri": "https://localhost:8080/"
        },
        "id": "Ul-9E8U6_Ulh",
        "outputId": "a88cd760-84ed-46da-b5fc-be42007a2a9a"
      },
      "source": [
        "!python --version"
      ],
      "execution_count": 9,
      "outputs": [
        {
          "output_type": "stream",
          "text": [
            "Python 3.7.10\n"
          ],
          "name": "stdout"
        }
      ]
    },
    {
      "cell_type": "code",
      "metadata": {
        "colab": {
          "base_uri": "https://localhost:8080/"
        },
        "id": "nSNQQhTE_uJK",
        "outputId": "8a0f808a-ab20-4332-d7d0-dfca4171fb13"
      },
      "source": [
        "x = \"1\"\n",
        "print(type(x))"
      ],
      "execution_count": 10,
      "outputs": [
        {
          "output_type": "stream",
          "text": [
            "<class 'str'>\n"
          ],
          "name": "stdout"
        }
      ]
    },
    {
      "cell_type": "markdown",
      "metadata": {
        "id": "_5yk5isEFEYM"
      },
      "source": [
        "#Variables"
      ]
    },
    {
      "cell_type": "code",
      "metadata": {
        "colab": {
          "base_uri": "https://localhost:8080/"
        },
        "id": "QXDoevRPFLVE",
        "outputId": "86e37e56-fab1-4d8d-cde0-011894fc9693"
      },
      "source": [
        "#Variables are defined to store some value.\n",
        "name = \"Shaniya\"\n",
        "age = \"27\"\n",
        "print(1+2)  #Add two numbers ( performs addition operation)\n",
        "print(\"1\"+\"2\")  #(Concatinaton of two strings i.e. one after another.)\n",
        "print(\"My name is \"+name+\" and i am \"+age+\" years old\")\n",
        "\n"
      ],
      "execution_count": 20,
      "outputs": [
        {
          "output_type": "stream",
          "text": [
            "3\n",
            "12\n",
            "My name is Shaniya and i am 27 years old\n"
          ],
          "name": "stdout"
        }
      ]
    },
    {
      "cell_type": "markdown",
      "metadata": {
        "id": "3CkUZpH4HNA0"
      },
      "source": [
        "How to name a variable?\n",
        "1. Variables can only start with a alphabet or _\n",
        "2. A variable cannot start with number.\n",
        "3. A variable can only contain alphabets, numbers and underscores (A-Z, a-z, 0-9, _)\n",
        "4. Variables names are case-sensitive ( NAME, Name and name are three different variables)"
      ]
    }
  ]
}