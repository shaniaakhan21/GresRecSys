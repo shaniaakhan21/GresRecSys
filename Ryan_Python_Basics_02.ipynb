{
  "nbformat": 4,
  "nbformat_minor": 0,
  "metadata": {
    "colab": {
      "name": "Ryan_Python_Basics_02.ipynb",
      "provenance": [],
      "authorship_tag": "ABX9TyMsGVku1i0XnaA8rA7NBmOQ",
      "include_colab_link": true
    },
    "kernelspec": {
      "name": "python3",
      "display_name": "Python 3"
    },
    "language_info": {
      "name": "python"
    }
  },
  "cells": [
    {
      "cell_type": "markdown",
      "metadata": {
        "id": "view-in-github",
        "colab_type": "text"
      },
      "source": [
        "<a href=\"https://colab.research.google.com/github/shaniaakhan21/GresRecSys/blob/main/Ryan_Python_Basics_02.ipynb\" target=\"_parent\"><img src=\"https://colab.research.google.com/assets/colab-badge.svg\" alt=\"Open In Colab\"/></a>"
      ]
    },
    {
      "cell_type": "markdown",
      "metadata": {
        "id": "9Ot2mA5dB84r"
      },
      "source": [
        "#How to name a variable?\n",
        "1.\tVariables can only start with a alphabet or _\n",
        "2.\tA variable cannot start with number.\n",
        "3.\tA variable can only contain alphabets, numbers and underscores (A-Z, a-z, 0-9)\n",
        "4.\tVariables names are case-sensitive.( name, NAME and Name are 3 different variables)"
      ]
    },
    {
      "cell_type": "code",
      "metadata": {
        "colab": {
          "base_uri": "https://localhost:8080/"
        },
        "id": "fHHl2MaECusN",
        "outputId": "aa64085b-ff69-4a1d-bb00-f6e6ea8a2717"
      },
      "source": [
        "_name = \"Smith\"\n",
        "name_01 = \"John\"\n",
        "print(_name)\n",
        "print(name_01)"
      ],
      "execution_count": 1,
      "outputs": [
        {
          "output_type": "stream",
          "text": [
            "Smith\n",
            "John\n"
          ],
          "name": "stdout"
        }
      ]
    },
    {
      "cell_type": "code",
      "metadata": {
        "colab": {
          "base_uri": "https://localhost:8080/"
        },
        "id": "AX8Yzzf2Dw2E",
        "outputId": "3e691506-cc80-4856-cbdb-f73f28a50f1f"
      },
      "source": [
        "Date = \"21-07-2021\"\n",
        "print(Date)"
      ],
      "execution_count": 2,
      "outputs": [
        {
          "output_type": "stream",
          "text": [
            "21-07-2021\n"
          ],
          "name": "stdout"
        }
      ]
    },
    {
      "cell_type": "markdown",
      "metadata": {
        "id": "sZxUB3h5E3Ni"
      },
      "source": [
        "#Operators:\n",
        "#AIRTHEMTIC OPERATORS"
      ]
    },
    {
      "cell_type": "code",
      "metadata": {
        "colab": {
          "base_uri": "https://localhost:8080/"
        },
        "id": "ao6I10LyE-yE",
        "outputId": "fb244d61-2931-482d-da30-a7911dfdb21c"
      },
      "source": [
        "#ADDITION \"+\"\n",
        "print(15+26)\n",
        "\n",
        "x = 15\n",
        "y = 26\n",
        "print(x+y)\n",
        "\n",
        "#addition of float values : 5.25 + 5\n",
        "print(2.025+5)"
      ],
      "execution_count": 5,
      "outputs": [
        {
          "output_type": "stream",
          "text": [
            "41\n",
            "41\n",
            "7.025\n"
          ],
          "name": "stdout"
        }
      ]
    },
    {
      "cell_type": "code",
      "metadata": {
        "colab": {
          "base_uri": "https://localhost:8080/"
        },
        "id": "UpSu4Q5sGD7E",
        "outputId": "db8acd66-0ed1-4892-c69a-8661baf1cb1d"
      },
      "source": [
        "#\"+\" is known as concatenation : means putting two strings together.\n",
        "a = \"MY Name is \"\n",
        "b = \"Shaniya khan\"\n",
        "print(a + b)\n",
        "\n",
        "p = \"12\"\n",
        "q = \"Apple\"\n",
        "print(p+q) "
      ],
      "execution_count": 9,
      "outputs": [
        {
          "output_type": "stream",
          "text": [
            "MY Name is Shaniya khan\n",
            "12Apple\n"
          ],
          "name": "stdout"
        }
      ]
    },
    {
      "cell_type": "code",
      "metadata": {
        "colab": {
          "base_uri": "https://localhost:8080/"
        },
        "id": "p64fyovRIAq6",
        "outputId": "6c5ec32a-421b-4f55-ac2b-a6d2c256a9ca"
      },
      "source": [
        "#SUBTRACTION \n",
        "print(24-9)\n",
        "\n",
        "r = 24\n",
        "s = 9\n",
        "print(r-s)"
      ],
      "execution_count": 11,
      "outputs": [
        {
          "output_type": "stream",
          "text": [
            "15\n",
            "15\n"
          ],
          "name": "stdout"
        }
      ]
    },
    {
      "cell_type": "code",
      "metadata": {
        "colab": {
          "base_uri": "https://localhost:8080/"
        },
        "id": "huystXWwIe3C",
        "outputId": "60c75456-221d-4cbe-8a7a-24a2c46d0e01"
      },
      "source": [
        "#MULTIPLICATION \"*\"\n",
        "print(3*9)\n",
        "\n",
        "print(r*s)"
      ],
      "execution_count": 13,
      "outputs": [
        {
          "output_type": "stream",
          "text": [
            "27\n",
            "216\n"
          ],
          "name": "stdout"
        }
      ]
    },
    {
      "cell_type": "code",
      "metadata": {
        "colab": {
          "base_uri": "https://localhost:8080/"
        },
        "id": "xelwfbVqJEQx",
        "outputId": "915d4909-35e6-4f1d-b29f-40f4cb15ea8e"
      },
      "source": [
        "#DIVISION \"/\"\n",
        "print(24/4)\n",
        "\n",
        "print(r/s)"
      ],
      "execution_count": 15,
      "outputs": [
        {
          "output_type": "stream",
          "text": [
            "6.0\n",
            "2.6666666666666665\n"
          ],
          "name": "stdout"
        }
      ]
    },
    {
      "cell_type": "code",
      "metadata": {
        "colab": {
          "base_uri": "https://localhost:8080/"
        },
        "id": "V9E9v1sjJv2V",
        "outputId": "beca0ff6-c237-4d85-dc0f-a00a0eda3a63"
      },
      "source": [
        "#FLOOR DIVISION \"//\"\n",
        "print(r//s) #gives us the value of quotient or division answers as a whole number.\n",
        "print(25//2)\n",
        "print(25/2)"
      ],
      "execution_count": 18,
      "outputs": [
        {
          "output_type": "stream",
          "text": [
            "2\n",
            "12\n",
            "12.5\n"
          ],
          "name": "stdout"
        }
      ]
    },
    {
      "cell_type": "code",
      "metadata": {
        "colab": {
          "base_uri": "https://localhost:8080/"
        },
        "id": "wfMsok5GLFtC",
        "outputId": "f1489a87-d30c-49c8-dbcf-884035e0be92"
      },
      "source": [
        "#Modulus \"%\"  gives the value of remainder\n",
        "print(25%2)"
      ],
      "execution_count": 19,
      "outputs": [
        {
          "output_type": "stream",
          "text": [
            "1\n"
          ],
          "name": "stdout"
        }
      ]
    },
    {
      "cell_type": "markdown",
      "metadata": {
        "id": "4eHFssaXL9Hc"
      },
      "source": [
        "#ASSIGMENT OPERATORS:\n"
      ]
    },
    {
      "cell_type": "code",
      "metadata": {
        "colab": {
          "base_uri": "https://localhost:8080/"
        },
        "id": "Enf3kFKlMDv-",
        "outputId": "96ed223b-5142-4866-9bee-c5a4eab812f9"
      },
      "source": [
        "#\"=\" is used for assigning some values.\n",
        "a  = 10\n",
        "print(a)"
      ],
      "execution_count": 20,
      "outputs": [
        {
          "output_type": "stream",
          "text": [
            "10\n"
          ],
          "name": "stdout"
        }
      ]
    },
    {
      "cell_type": "code",
      "metadata": {
        "colab": {
          "base_uri": "https://localhost:8080/"
        },
        "id": "QyBJdrEyMTLe",
        "outputId": "177b548f-ebf2-4912-803c-409bdb37951f"
      },
      "source": [
        "#\"==\" comparison of two values\n",
        "a = 20\n",
        "b = 20 \n",
        "print(a==b)"
      ],
      "execution_count": 22,
      "outputs": [
        {
          "output_type": "stream",
          "text": [
            "True\n"
          ],
          "name": "stdout"
        }
      ]
    },
    {
      "cell_type": "code",
      "metadata": {
        "colab": {
          "base_uri": "https://localhost:8080/"
        },
        "id": "kWKIWTV0M3Fu",
        "outputId": "76747592-cedf-407b-c061-1f5b92f4ae16"
      },
      "source": [
        "#\"!=\" is known as not equal to , comparing two values.\n",
        "print(a!=b)"
      ],
      "execution_count": 23,
      "outputs": [
        {
          "output_type": "stream",
          "text": [
            "False\n"
          ],
          "name": "stdout"
        }
      ]
    },
    {
      "cell_type": "code",
      "metadata": {
        "colab": {
          "base_uri": "https://localhost:8080/"
        },
        "id": "0SyHvlnENYbJ",
        "outputId": "6196d1e9-35d4-4b43-992c-906691769fa2"
      },
      "source": [
        "#\"+=\" , is used for adding some values. x = x+2 or x += 2\n",
        "x = 24\n",
        "x += 2\n",
        "y = 23\n",
        "y = y+2\n",
        "print(x)\n",
        "print(y)"
      ],
      "execution_count": 26,
      "outputs": [
        {
          "output_type": "stream",
          "text": [
            "26\n",
            "25\n"
          ],
          "name": "stdout"
        }
      ]
    }
  ]
}