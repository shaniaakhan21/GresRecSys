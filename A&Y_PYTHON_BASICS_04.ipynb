{
  "nbformat": 4,
  "nbformat_minor": 0,
  "metadata": {
    "colab": {
      "name": "A&Y_PYTHON_BASICS_04.ipynb",
      "provenance": [],
      "authorship_tag": "ABX9TyOjWDCe1Qsyy+67KLUD4sUg",
      "include_colab_link": true
    },
    "kernelspec": {
      "name": "python3",
      "display_name": "Python 3"
    },
    "language_info": {
      "name": "python"
    }
  },
  "cells": [
    {
      "cell_type": "markdown",
      "metadata": {
        "id": "view-in-github",
        "colab_type": "text"
      },
      "source": [
        "<a href=\"https://colab.research.google.com/github/shaniaakhan21/GresRecSys/blob/main/A%26Y_PYTHON_BASICS_04.ipynb\" target=\"_parent\"><img src=\"https://colab.research.google.com/assets/colab-badge.svg\" alt=\"Open In Colab\"/></a>"
      ]
    },
    {
      "cell_type": "markdown",
      "metadata": {
        "id": "NcS6_YWjiRgv"
      },
      "source": [
        "#ASSIGNMENT OPERATORS"
      ]
    },
    {
      "cell_type": "code",
      "metadata": {
        "colab": {
          "base_uri": "https://localhost:8080/"
        },
        "id": "1OKuv3Wkifvv",
        "outputId": "414350f2-3623-4426-e789-65da461dc221"
      },
      "source": [
        "#\"=\" is operator to assign some value\n",
        "a = 10\n",
        "print(a)"
      ],
      "execution_count": 1,
      "outputs": [
        {
          "output_type": "stream",
          "text": [
            "10\n"
          ],
          "name": "stdout"
        }
      ]
    },
    {
      "cell_type": "code",
      "metadata": {
        "colab": {
          "base_uri": "https://localhost:8080/"
        },
        "id": "Au5_rKtDiuoY",
        "outputId": "82e96fb7-8007-49bb-af07-4f9df8298234"
      },
      "source": [
        "#\"==\" is for comparing two values, a=10 and b=20, print(a==b)\n",
        "b = 20\n",
        "print(a==b)"
      ],
      "execution_count": 4,
      "outputs": [
        {
          "output_type": "stream",
          "text": [
            "False\n"
          ],
          "name": "stdout"
        }
      ]
    },
    {
      "cell_type": "code",
      "metadata": {
        "colab": {
          "base_uri": "https://localhost:8080/"
        },
        "id": "-4QMIIrIjLfZ",
        "outputId": "8006e411-0785-4ec9-e5da-a9ba94f99be6"
      },
      "source": [
        "#\"!=\" is not equal to operator , comparing two values.\n",
        "print(a!=b)"
      ],
      "execution_count": 5,
      "outputs": [
        {
          "output_type": "stream",
          "text": [
            "True\n"
          ],
          "name": "stdout"
        }
      ]
    },
    {
      "cell_type": "code",
      "metadata": {
        "colab": {
          "base_uri": "https://localhost:8080/"
        },
        "id": "cTQ_wQk-j641",
        "outputId": "84df9831-5192-4572-c45f-09e9f6e98fad"
      },
      "source": [
        "#\"+=\" , It's a operator for adding some values, x = x+4 or x+=4\n",
        "x = 2\n",
        "x += 4\n",
        "print(x)"
      ],
      "execution_count": 8,
      "outputs": [
        {
          "output_type": "stream",
          "text": [
            "6\n"
          ],
          "name": "stdout"
        }
      ]
    },
    {
      "cell_type": "code",
      "metadata": {
        "colab": {
          "base_uri": "https://localhost:8080/"
        },
        "id": "r8Rtvo2PkkcA",
        "outputId": "6dc64b9a-7634-45be-80b4-f6bfd27c0152"
      },
      "source": [
        "#\"-=\", is used for subtracting the values, x = x-4 or x -= 4\n",
        "y = 10\n",
        "y -= 4\n",
        "print(y)"
      ],
      "execution_count": 9,
      "outputs": [
        {
          "output_type": "stream",
          "text": [
            "6\n"
          ],
          "name": "stdout"
        }
      ]
    },
    {
      "cell_type": "code",
      "metadata": {
        "colab": {
          "base_uri": "https://localhost:8080/"
        },
        "id": "87ch_xBhk9g_",
        "outputId": "f143a28b-a931-40ab-acbb-cc6d0eaa6dbb"
      },
      "source": [
        "#\"*=\", is used for multiplying the values, x = x*4 or x *= 4\n",
        "z = 3\n",
        "z *= 4\n",
        "print(z)"
      ],
      "execution_count": 10,
      "outputs": [
        {
          "output_type": "stream",
          "text": [
            "12\n"
          ],
          "name": "stdout"
        }
      ]
    },
    {
      "cell_type": "code",
      "metadata": {
        "colab": {
          "base_uri": "https://localhost:8080/"
        },
        "id": "xigPgUxRmAfU",
        "outputId": "5bc157d7-7eff-464a-e27c-a1a0cd53427d"
      },
      "source": [
        "#\"%=\" x = x%2 or x %= 2\n",
        "z %= 2\n",
        "print(z)"
      ],
      "execution_count": 11,
      "outputs": [
        {
          "output_type": "stream",
          "text": [
            "0\n"
          ],
          "name": "stdout"
        }
      ]
    },
    {
      "cell_type": "code",
      "metadata": {
        "colab": {
          "base_uri": "https://localhost:8080/"
        },
        "id": "89Zoxk3BmXDQ",
        "outputId": "eed7f3fe-e665-466d-8510-9bb057a0b92a"
      },
      "source": [
        "#\"/=\" is used for division , x /= 2 or x = x/2\n",
        "y /= 2\n",
        "print(y)"
      ],
      "execution_count": 12,
      "outputs": [
        {
          "output_type": "stream",
          "text": [
            "3.0\n"
          ],
          "name": "stdout"
        }
      ]
    },
    {
      "cell_type": "code",
      "metadata": {
        "colab": {
          "base_uri": "https://localhost:8080/"
        },
        "id": "StPMGDg3msan",
        "outputId": "7227b7f0-ee1c-4844-9c8b-d59fd4ae3907"
      },
      "source": [
        "#\"//=\", is used for floor division , x = x//2 or x //= 2\n",
        "q = 10\n",
        "q //= 3\n",
        "print(q)"
      ],
      "execution_count": 13,
      "outputs": [
        {
          "output_type": "stream",
          "text": [
            "3\n"
          ],
          "name": "stdout"
        }
      ]
    },
    {
      "cell_type": "code",
      "metadata": {
        "colab": {
          "base_uri": "https://localhost:8080/"
        },
        "id": "_9NKmKEEoATf",
        "outputId": "46e18b56-be58-4d1a-e819-6c90d5a68363"
      },
      "source": [
        "#\"**\"\n",
        "t = 3\n",
        "print(t**3)"
      ],
      "execution_count": 15,
      "outputs": [
        {
          "output_type": "stream",
          "text": [
            "27\n"
          ],
          "name": "stdout"
        }
      ]
    },
    {
      "cell_type": "code",
      "metadata": {
        "colab": {
          "base_uri": "https://localhost:8080/"
        },
        "id": "mB4LBv6Doa4s",
        "outputId": "c67458fe-0247-4ef5-a1cb-e6d09227844e"
      },
      "source": [
        "#\"**=\", t = t**3 or t **= 3\n",
        "t **= 4 \n",
        "print(t)"
      ],
      "execution_count": 16,
      "outputs": [
        {
          "output_type": "stream",
          "text": [
            "81\n"
          ],
          "name": "stdout"
        }
      ]
    },
    {
      "cell_type": "markdown",
      "metadata": {
        "id": "x6Vg4lCxo0De"
      },
      "source": [
        "#COMPARISON OPERATORS:\n"
      ]
    },
    {
      "cell_type": "code",
      "metadata": {
        "id": "u2pSkfzLo5QC"
      },
      "source": [
        "#\"==\" \n",
        "#\"!=\""
      ],
      "execution_count": null,
      "outputs": []
    },
    {
      "cell_type": "code",
      "metadata": {
        "colab": {
          "base_uri": "https://localhost:8080/"
        },
        "id": "ympiK7pso8ux",
        "outputId": "cb735953-9bb5-4e78-f425-5a69802b31d7"
      },
      "source": [
        "#\"<\" or \">\"\n",
        "a = 10\n",
        "b = 20\n",
        "print(a<b)\n",
        "print(a>b)"
      ],
      "execution_count": 18,
      "outputs": [
        {
          "output_type": "stream",
          "text": [
            "True\n",
            "False\n"
          ],
          "name": "stdout"
        }
      ]
    },
    {
      "cell_type": "code",
      "metadata": {
        "colab": {
          "base_uri": "https://localhost:8080/"
        },
        "id": "kgJOMMMCpqUe",
        "outputId": "dc0dbb63-7cde-4adf-cd30-b883664a1597"
      },
      "source": [
        "#\">=\" , a = a>b or a >= b\n",
        "print(a>=b) "
      ],
      "execution_count": 19,
      "outputs": [
        {
          "output_type": "stream",
          "text": [
            "False\n"
          ],
          "name": "stdout"
        }
      ]
    },
    {
      "cell_type": "code",
      "metadata": {
        "colab": {
          "base_uri": "https://localhost:8080/"
        },
        "id": "U4dJShM4p5sA",
        "outputId": "ad19c8f3-b6ed-4d5d-b2fb-65470e70bc39"
      },
      "source": [
        "#\"<=\", a = a<b or a <= b\n",
        "print(a<=b)"
      ],
      "execution_count": 20,
      "outputs": [
        {
          "output_type": "stream",
          "text": [
            "True\n"
          ],
          "name": "stdout"
        }
      ]
    },
    {
      "cell_type": "markdown",
      "metadata": {
        "id": "1sBAGyHAqWWp"
      },
      "source": [
        "#LOGICAL OPERATORS:"
      ]
    },
    {
      "cell_type": "code",
      "metadata": {
        "colab": {
          "base_uri": "https://localhost:8080/"
        },
        "id": "E5L1LNO6qaT8",
        "outputId": "e4c0f656-51ab-4680-9290-8cd3546e8916"
      },
      "source": [
        "#\"and\" , if both the values are TRUE then it will return TRUE.\n",
        "a = 10 \n",
        "b = 20\n",
        "print(a>b and b>10)"
      ],
      "execution_count": 21,
      "outputs": [
        {
          "output_type": "stream",
          "text": [
            "False\n"
          ],
          "name": "stdout"
        }
      ]
    },
    {
      "cell_type": "code",
      "metadata": {
        "colab": {
          "base_uri": "https://localhost:8080/"
        },
        "id": "rmfaxM4VrAug",
        "outputId": "61d8a15f-0c5a-4ff3-bcb7-ea5ab5b3afa0"
      },
      "source": [
        "#\"or\" , will return TRUE if atleast one of the value from two condition is TRUE.\n",
        "print(a>b or b>10 )"
      ],
      "execution_count": 24,
      "outputs": [
        {
          "output_type": "stream",
          "text": [
            "True\n"
          ],
          "name": "stdout"
        }
      ]
    },
    {
      "cell_type": "code",
      "metadata": {
        "colab": {
          "base_uri": "https://localhost:8080/"
        },
        "id": "f8Yw77Pgrq-Z",
        "outputId": "8a853b53-1913-4bf9-f420-4fddd050ae29"
      },
      "source": [
        "#\"not\" , used to reverse the boolean value\n",
        "z = True\n",
        "print( not z)"
      ],
      "execution_count": 25,
      "outputs": [
        {
          "output_type": "stream",
          "text": [
            "False\n"
          ],
          "name": "stdout"
        }
      ]
    },
    {
      "cell_type": "code",
      "metadata": {
        "colab": {
          "base_uri": "https://localhost:8080/"
        },
        "id": "yU0o9wlGr4Sl",
        "outputId": "d761711f-fd73-4ec9-ff6d-30dbeaaae8f6"
      },
      "source": [
        "print(not (a>b and b>10))"
      ],
      "execution_count": 26,
      "outputs": [
        {
          "output_type": "stream",
          "text": [
            "True\n"
          ],
          "name": "stdout"
        }
      ]
    },
    {
      "cell_type": "markdown",
      "metadata": {
        "id": "vDwKH__gsJXD"
      },
      "source": [
        "#IDENTITY OPERATORS"
      ]
    },
    {
      "cell_type": "code",
      "metadata": {
        "colab": {
          "base_uri": "https://localhost:8080/"
        },
        "id": "663mGFkjse0d",
        "outputId": "c9ed0da3-2779-4d1b-cd95-9a7592388f10"
      },
      "source": [
        "#\"is\"\n",
        "c = 15\n",
        "d = 25\n",
        "print(c is d)"
      ],
      "execution_count": 27,
      "outputs": [
        {
          "output_type": "stream",
          "text": [
            "False\n"
          ],
          "name": "stdout"
        }
      ]
    },
    {
      "cell_type": "code",
      "metadata": {
        "colab": {
          "base_uri": "https://localhost:8080/"
        },
        "id": "EvE0DFtWs27e",
        "outputId": "ca03e617-e223-4e4c-9363-b20697d36d05"
      },
      "source": [
        "#\"is not\"\n",
        "print(c is not d )"
      ],
      "execution_count": 28,
      "outputs": [
        {
          "output_type": "stream",
          "text": [
            "True\n"
          ],
          "name": "stdout"
        }
      ]
    },
    {
      "cell_type": "markdown",
      "metadata": {
        "id": "xiMfKXO-tAGU"
      },
      "source": [
        "#MEMBERSHIP OPERATORS"
      ]
    },
    {
      "cell_type": "code",
      "metadata": {
        "colab": {
          "base_uri": "https://localhost:8080/"
        },
        "id": "6INIRuhKtGKn",
        "outputId": "ef1bb366-f5c9-438a-b863-19fb116e7d29"
      },
      "source": [
        "#\"in\", to check if value exists within something\n",
        "j = \"HELLO HOW ARE YOU\"\n",
        "print('z' in j)"
      ],
      "execution_count": 30,
      "outputs": [
        {
          "output_type": "stream",
          "text": [
            "False\n"
          ],
          "name": "stdout"
        }
      ]
    },
    {
      "cell_type": "code",
      "metadata": {
        "colab": {
          "base_uri": "https://localhost:8080/"
        },
        "id": "MfOj7Abwttt5",
        "outputId": "998dbdfd-b471-442c-d09d-f33af26e1b2f"
      },
      "source": [
        "#\"not in\", to check if value does not exists within something\n",
        "print('z' not in j)\n"
      ],
      "execution_count": 31,
      "outputs": [
        {
          "output_type": "stream",
          "text": [
            "True\n"
          ],
          "name": "stdout"
        }
      ]
    }
  ]
}